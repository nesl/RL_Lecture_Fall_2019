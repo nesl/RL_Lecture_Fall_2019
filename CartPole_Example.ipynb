{
 "cells": [
  {
   "cell_type": "markdown",
   "metadata": {},
   "source": [
    "# Cartpole environment"
   ]
  },
  {
   "cell_type": "code",
   "execution_count": 1,
   "metadata": {},
   "outputs": [
    {
     "data": {
      "text/plain": [
       "'/Users/sandeep/anaconda3/envs/rlenv/bin/python'"
      ]
     },
     "execution_count": 1,
     "metadata": {},
     "output_type": "execute_result"
    }
   ],
   "source": [
    "# See that, we are using the correct environment\n",
    "import sys\n",
    "sys.executable"
   ]
  },
  {
   "cell_type": "markdown",
   "metadata": {},
   "source": [
    "## A pole is attached by an un-actuated joint to a cart, which moves along a frictionless track. \n",
    "\n",
    "## Actions: The system is controlled by applying a force of +1 or -1 to the cart.  +1: accelerate right\n",
    "\n",
    "## Starting State and Goal: The pendulum starts upright, and the goal is to prevent it from falling over. \n",
    "\n",
    "## Reward: A reward of +1 is provided for every timestep that the pole remains upright. \n",
    "\n",
    "## Done: The episode ends when the pole is more than 15 degrees from vertical, or the cart moves more than 2.4 units from the center."
   ]
  },
  {
   "cell_type": "markdown",
   "metadata": {},
   "source": [
    "# Random Actions "
   ]
  },
  {
   "cell_type": "code",
   "execution_count": 2,
   "metadata": {},
   "outputs": [
    {
     "name": "stdout",
     "output_type": "stream",
     "text": [
      "Pole falls, after actions:36\n",
      "Pole falls, after actions:53\n",
      "Pole falls, after actions:72\n",
      "Pole falls, after actions:98\n",
      "Pole falls, after actions:112\n",
      "Pole falls, after actions:151\n",
      "Pole falls, after actions:172\n",
      "Pole falls, after actions:182\n",
      "Pole falls, after actions:205\n",
      "Pole falls, after actions:237\n",
      "Pole falls, after actions:262\n",
      "Pole falls, after actions:284\n",
      "Pole falls, after actions:303\n",
      "Pole falls, after actions:322\n",
      "Pole falls, after actions:350\n",
      "Pole falls, after actions:383\n",
      "Pole falls, after actions:396\n",
      "Pole falls, after actions:419\n",
      "Pole falls, after actions:435\n",
      "Pole falls, after actions:453\n",
      "Pole falls, after actions:465\n",
      "Pole falls, after actions:478\n",
      "Pole falls, after actions:489\n",
      "Pole falls, after actions:515\n",
      "Pole falls, after actions:526\n",
      "Pole falls, after actions:544\n",
      "Pole falls, after actions:568\n",
      "Pole falls, after actions:580\n",
      "Pole falls, after actions:592\n",
      "Pole falls, after actions:606\n",
      "Pole falls, after actions:628\n",
      "Pole falls, after actions:678\n",
      "Pole falls, after actions:719\n",
      "Pole falls, after actions:732\n",
      "Pole falls, after actions:761\n",
      "Pole falls, after actions:774\n",
      "Pole falls, after actions:799\n",
      "Pole falls, after actions:816\n",
      "Pole falls, after actions:842\n",
      "Pole falls, after actions:858\n",
      "Pole falls, after actions:914\n",
      "Pole falls, after actions:928\n",
      "Pole falls, after actions:970\n",
      "Pole falls, after actions:995\n"
     ]
    }
   ],
   "source": [
    "import gym\n",
    "env = gym.make('CartPole-v0')\n",
    "env.reset()\n",
    "\n",
    "done = False\n",
    "\n",
    "for i in range(1000):\n",
    "    env.render()\n",
    "    \n",
    "    action = env.action_space.sample()\n",
    "    obs, _, done, _ = env.step(action) \n",
    "    \n",
    "    if done:\n",
    "        print('Pole falls, after actions:'+str(i))\n",
    "        env.reset()\n",
    "    \n",
    "env.close()"
   ]
  },
  {
   "cell_type": "markdown",
   "metadata": {},
   "source": [
    "# Main parts of the code"
   ]
  },
  {
   "cell_type": "markdown",
   "metadata": {},
   "source": [
    "# Create the environment"
   ]
  },
  {
   "cell_type": "code",
   "execution_count": 2,
   "metadata": {},
   "outputs": [],
   "source": [
    "env = gym.make('CartPole-v0')"
   ]
  },
  {
   "cell_type": "markdown",
   "metadata": {},
   "source": [
    "# Set Environment to initial condition\n",
    "## Example: Starting position of the cart"
   ]
  },
  {
   "cell_type": "code",
   "execution_count": 12,
   "metadata": {},
   "outputs": [
    {
     "data": {
      "text/plain": [
       "array([ 0.04983604, -0.03569008,  0.00620202, -0.01983055])"
      ]
     },
     "execution_count": 12,
     "metadata": {},
     "output_type": "execute_result"
    }
   ],
   "source": [
    "env.reset()"
   ]
  },
  {
   "cell_type": "markdown",
   "metadata": {},
   "source": [
    "0\tCart Position\t(-2.4\t2.4)\n",
    "\n",
    "1\tCart Velocity\t(-Inf\tInf)\n",
    "\n",
    "2\tPole Angle\t(~ -41.8°\t~ 41.8°)\n",
    "\n",
    "3\tPole Velocity At Tip\t(-Inf\tInf)"
   ]
  },
  {
   "cell_type": "markdown",
   "metadata": {},
   "source": [
    "# Take action: env.step(Action)"
   ]
  },
  {
   "cell_type": "markdown",
   "metadata": {},
   "source": [
    "# Visualization: env.render()"
   ]
  },
  {
   "cell_type": "code",
   "execution_count": null,
   "metadata": {},
   "outputs": [],
   "source": []
  }
 ],
 "metadata": {
  "kernelspec": {
   "display_name": "Python 3",
   "language": "python",
   "name": "python3"
  },
  "language_info": {
   "codemirror_mode": {
    "name": "ipython",
    "version": 3
   },
   "file_extension": ".py",
   "mimetype": "text/x-python",
   "name": "python",
   "nbconvert_exporter": "python",
   "pygments_lexer": "ipython3",
   "version": "3.5.2"
  }
 },
 "nbformat": 4,
 "nbformat_minor": 2
}

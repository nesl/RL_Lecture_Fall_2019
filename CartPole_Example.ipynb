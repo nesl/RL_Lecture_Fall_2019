{
 "cells": [
  {
   "cell_type": "markdown",
   "metadata": {},
   "source": [
    "# Random Actions "
   ]
  },
  {
   "cell_type": "code",
   "execution_count": 15,
   "metadata": {},
   "outputs": [
    {
     "name": "stdout",
     "output_type": "stream",
     "text": [
      "Pole falls, action:8\n",
      "Pole falls, action:48\n",
      "Pole falls, action:58\n",
      "Pole falls, action:80\n",
      "Pole falls, action:101\n",
      "Pole falls, action:136\n",
      "Pole falls, action:157\n",
      "Pole falls, action:171\n",
      "Pole falls, action:195\n",
      "Pole falls, action:206\n",
      "Pole falls, action:226\n",
      "Pole falls, action:238\n",
      "Pole falls, action:265\n",
      "Pole falls, action:286\n",
      "Pole falls, action:301\n",
      "Pole falls, action:323\n",
      "Pole falls, action:339\n",
      "Pole falls, action:361\n",
      "Pole falls, action:416\n",
      "Pole falls, action:431\n",
      "Pole falls, action:449\n",
      "Pole falls, action:480\n",
      "Pole falls, action:497\n",
      "Pole falls, action:513\n",
      "Pole falls, action:526\n",
      "Pole falls, action:541\n",
      "Pole falls, action:556\n",
      "Pole falls, action:570\n",
      "Pole falls, action:586\n",
      "Pole falls, action:623\n",
      "Pole falls, action:647\n",
      "Pole falls, action:666\n",
      "Pole falls, action:685\n",
      "Pole falls, action:702\n",
      "Pole falls, action:735\n",
      "Pole falls, action:760\n",
      "Pole falls, action:799\n",
      "Pole falls, action:814\n",
      "Pole falls, action:843\n",
      "Pole falls, action:852\n",
      "Pole falls, action:881\n",
      "Pole falls, action:895\n",
      "Pole falls, action:908\n",
      "Pole falls, action:934\n",
      "Pole falls, action:950\n",
      "Pole falls, action:963\n",
      "Pole falls, action:980\n",
      "Pole falls, action:991\n"
     ]
    }
   ],
   "source": [
    "import gym\n",
    "env = gym.make('CartPole-v0')\n",
    "env.reset()\n",
    "\n",
    "done = False\n",
    "\n",
    "for i in range(1000):\n",
    "    env.render()\n",
    "    \n",
    "    action = env.action_space.sample()\n",
    "    obs, _, done, _ = env.step(action) \n",
    "    \n",
    "    if done:\n",
    "        print('Pole falls, action:'+str(i))\n",
    "        env.reset()\n",
    "    \n",
    "env.close()"
   ]
  },
  {
   "cell_type": "code",
   "execution_count": null,
   "metadata": {},
   "outputs": [],
   "source": []
  }
 ],
 "metadata": {
  "kernelspec": {
   "display_name": "Python 3",
   "language": "python",
   "name": "python3"
  },
  "language_info": {
   "codemirror_mode": {
    "name": "ipython",
    "version": 3
   },
   "file_extension": ".py",
   "mimetype": "text/x-python",
   "name": "python",
   "nbconvert_exporter": "python",
   "pygments_lexer": "ipython3",
   "version": "3.7.5"
  }
 },
 "nbformat": 4,
 "nbformat_minor": 2
}

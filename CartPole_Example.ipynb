{
 "cells": [
  {
   "cell_type": "markdown",
   "metadata": {},
   "source": [
    "# Cartpole environment"
   ]
  },
  {
   "cell_type": "markdown",
   "metadata": {},
   "source": [
    "## A pole is attached by an un-actuated joint to a cart, which moves along a frictionless track. \n",
    "\n",
    "## Actions: The system is controlled by applying a force of +1 or -1 to the cart. \n",
    "\n",
    "## Starting State and Goal: The pendulum starts upright, and the goal is to prevent it from falling over. \n",
    "\n",
    "## Reward: A reward of +1 is provided for every timestep that the pole remains upright. \n",
    "\n",
    "## Done: The episode ends when the pole is more than 15 degrees from vertical, or the cart moves more than 2.4 units from the center."
   ]
  },
  {
   "cell_type": "markdown",
   "metadata": {},
   "source": [
    "# Random Actions "
   ]
  },
  {
   "cell_type": "code",
   "execution_count": 6,
   "metadata": {},
   "outputs": [
    {
     "name": "stdout",
     "output_type": "stream",
     "text": [
      "Pole falls, action:16\n",
      "Pole falls, action:29\n",
      "Pole falls, action:44\n",
      "Pole falls, action:78\n",
      "Pole falls, action:101\n",
      "Pole falls, action:125\n",
      "Pole falls, action:137\n",
      "Pole falls, action:154\n",
      "Pole falls, action:172\n",
      "Pole falls, action:191\n",
      "Pole falls, action:217\n",
      "Pole falls, action:233\n",
      "Pole falls, action:266\n",
      "Pole falls, action:278\n",
      "Pole falls, action:295\n",
      "Pole falls, action:323\n",
      "Pole falls, action:334\n",
      "Pole falls, action:351\n",
      "Pole falls, action:372\n",
      "Pole falls, action:388\n",
      "Pole falls, action:405\n",
      "Pole falls, action:433\n",
      "Pole falls, action:447\n",
      "Pole falls, action:457\n",
      "Pole falls, action:470\n",
      "Pole falls, action:486\n",
      "Pole falls, action:506\n",
      "Pole falls, action:521\n",
      "Pole falls, action:535\n",
      "Pole falls, action:557\n",
      "Pole falls, action:572\n",
      "Pole falls, action:606\n",
      "Pole falls, action:628\n",
      "Pole falls, action:649\n",
      "Pole falls, action:668\n",
      "Pole falls, action:688\n",
      "Pole falls, action:710\n",
      "Pole falls, action:725\n",
      "Pole falls, action:740\n",
      "Pole falls, action:773\n",
      "Pole falls, action:814\n",
      "Pole falls, action:826\n",
      "Pole falls, action:841\n",
      "Pole falls, action:865\n",
      "Pole falls, action:878\n",
      "Pole falls, action:901\n",
      "Pole falls, action:922\n",
      "Pole falls, action:936\n",
      "Pole falls, action:950\n",
      "Pole falls, action:964\n",
      "Pole falls, action:975\n"
     ]
    }
   ],
   "source": [
    "import gym\n",
    "env = gym.make('CartPole-v0')\n",
    "env.reset()\n",
    "\n",
    "done = False\n",
    "\n",
    "for i in range(1000):\n",
    "    env.render()\n",
    "    \n",
    "    action = env.action_space.sample()\n",
    "    obs, _, done, _ = env.step(action) \n",
    "    \n",
    "    if done:\n",
    "        print('Pole falls, action:'+str(i))\n",
    "        env.reset()\n",
    "    \n",
    "env.close()"
   ]
  },
  {
   "cell_type": "markdown",
   "metadata": {},
   "source": [
    "# Main parts of the code"
   ]
  },
  {
   "cell_type": "markdown",
   "metadata": {},
   "source": [
    "# Create the environment"
   ]
  },
  {
   "cell_type": "code",
   "execution_count": 2,
   "metadata": {},
   "outputs": [],
   "source": [
    "env = gym.make('CartPole-v0')"
   ]
  },
  {
   "cell_type": "markdown",
   "metadata": {},
   "source": [
    "# Set Environment to initial condition\n",
    "## Example: Starting position of the cart"
   ]
  },
  {
   "cell_type": "code",
   "execution_count": 12,
   "metadata": {},
   "outputs": [
    {
     "data": {
      "text/plain": [
       "array([ 0.04983604, -0.03569008,  0.00620202, -0.01983055])"
      ]
     },
     "execution_count": 12,
     "metadata": {},
     "output_type": "execute_result"
    }
   ],
   "source": [
    "env.reset()"
   ]
  },
  {
   "cell_type": "markdown",
   "metadata": {},
   "source": [
    "0\tCart Position\t(-2.4\t2.4)\n",
    "\n",
    "1\tCart Velocity\t(-Inf\tInf)\n",
    "\n",
    "2\tPole Angle\t(~ -41.8°\t~ 41.8°)\n",
    "\n",
    "3\tPole Velocity At Tip\t(-Inf\tInf)"
   ]
  },
  {
   "cell_type": "markdown",
   "metadata": {},
   "source": [
    "# Take action: env.step(Action)"
   ]
  },
  {
   "cell_type": "markdown",
   "metadata": {},
   "source": [
    "# Visualization: env.render()"
   ]
  },
  {
   "cell_type": "code",
   "execution_count": null,
   "metadata": {},
   "outputs": [],
   "source": []
  }
 ],
 "metadata": {
  "kernelspec": {
   "display_name": "Python 3",
   "language": "python",
   "name": "python3"
  },
  "language_info": {
   "codemirror_mode": {
    "name": "ipython",
    "version": 3
   },
   "file_extension": ".py",
   "mimetype": "text/x-python",
   "name": "python",
   "nbconvert_exporter": "python",
   "pygments_lexer": "ipython3",
   "version": "3.7.3"
  }
 },
 "nbformat": 4,
 "nbformat_minor": 2
}

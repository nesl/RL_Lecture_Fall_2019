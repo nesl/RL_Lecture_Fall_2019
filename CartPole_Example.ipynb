{
 "cells": [
  {
   "cell_type": "markdown",
   "metadata": {},
   "source": [
    "# Cartpole environment"
   ]
  },
  {
   "cell_type": "markdown",
   "metadata": {},
   "source": [
    "## A pole is attached by an un-actuated joint to a cart, which moves along a frictionless track. \n",
    "\n",
    "## Actions: The system is controlled by applying a force of +1 or -1 to the cart.  +1: accelerate right\n",
    "\n",
    "## Starting State and Goal: The pendulum starts upright, and the goal is to prevent it from falling over. \n",
    "\n",
    "## Reward: A reward of +1 is provided for every timestep that the pole remains upright. \n",
    "\n",
    "## Done: The episode ends when the pole is more than 15 degrees from vertical, or the cart moves more than 2.4 units from the center."
   ]
  },
  {
   "cell_type": "markdown",
   "metadata": {},
   "source": [
    "# Random Actions "
   ]
  },
  {
   "cell_type": "code",
   "execution_count": 1,
   "metadata": {},
   "outputs": [
    {
     "name": "stdout",
     "output_type": "stream",
     "text": [
      "Pole falls, after actions:13\n",
      "Pole falls, after actions:27\n",
      "Pole falls, after actions:37\n",
      "Pole falls, after actions:50\n",
      "Pole falls, after actions:86\n",
      "Pole falls, after actions:102\n",
      "Pole falls, after actions:118\n",
      "Pole falls, after actions:138\n",
      "Pole falls, after actions:174\n",
      "Pole falls, after actions:209\n",
      "Pole falls, after actions:234\n",
      "Pole falls, after actions:243\n",
      "Pole falls, after actions:255\n",
      "Pole falls, after actions:284\n",
      "Pole falls, after actions:304\n",
      "Pole falls, after actions:329\n",
      "Pole falls, after actions:347\n",
      "Pole falls, after actions:364\n",
      "Pole falls, after actions:389\n",
      "Pole falls, after actions:403\n",
      "Pole falls, after actions:419\n",
      "Pole falls, after actions:430\n",
      "Pole falls, after actions:459\n",
      "Pole falls, after actions:492\n",
      "Pole falls, after actions:517\n",
      "Pole falls, after actions:570\n",
      "Pole falls, after actions:607\n",
      "Pole falls, after actions:643\n",
      "Pole falls, after actions:659\n",
      "Pole falls, after actions:673\n",
      "Pole falls, after actions:683\n",
      "Pole falls, after actions:698\n",
      "Pole falls, after actions:708\n",
      "Pole falls, after actions:721\n",
      "Pole falls, after actions:739\n",
      "Pole falls, after actions:772\n",
      "Pole falls, after actions:788\n",
      "Pole falls, after actions:800\n",
      "Pole falls, after actions:811\n",
      "Pole falls, after actions:838\n",
      "Pole falls, after actions:866\n",
      "Pole falls, after actions:890\n",
      "Pole falls, after actions:903\n",
      "Pole falls, after actions:925\n",
      "Pole falls, after actions:960\n",
      "Pole falls, after actions:981\n",
      "Pole falls, after actions:992\n"
     ]
    }
   ],
   "source": [
    "import gym\n",
    "env = gym.make('CartPole-v0')\n",
    "env.reset()\n",
    "\n",
    "done = False\n",
    "\n",
    "for i in range(1000):\n",
    "    env.render()\n",
    "    \n",
    "    action = env.action_space.sample()\n",
    "    obs, _, done, _ = env.step(action) \n",
    "    \n",
    "    if done:\n",
    "        print('Pole falls, after actions:'+str(i))\n",
    "        env.reset()\n",
    "    \n",
    "env.close()"
   ]
  },
  {
   "cell_type": "markdown",
   "metadata": {},
   "source": [
    "# Main parts of the code"
   ]
  },
  {
   "cell_type": "markdown",
   "metadata": {},
   "source": [
    "# Create the environment"
   ]
  },
  {
   "cell_type": "code",
   "execution_count": 2,
   "metadata": {},
   "outputs": [],
   "source": [
    "env = gym.make('CartPole-v0')"
   ]
  },
  {
   "cell_type": "markdown",
   "metadata": {},
   "source": [
    "# Set Environment to initial condition\n",
    "## Example: Starting position of the cart"
   ]
  },
  {
   "cell_type": "code",
   "execution_count": 12,
   "metadata": {},
   "outputs": [
    {
     "data": {
      "text/plain": [
       "array([ 0.04983604, -0.03569008,  0.00620202, -0.01983055])"
      ]
     },
     "execution_count": 12,
     "metadata": {},
     "output_type": "execute_result"
    }
   ],
   "source": [
    "env.reset()"
   ]
  },
  {
   "cell_type": "markdown",
   "metadata": {},
   "source": [
    "0\tCart Position\t(-2.4\t2.4)\n",
    "\n",
    "1\tCart Velocity\t(-Inf\tInf)\n",
    "\n",
    "2\tPole Angle\t(~ -41.8°\t~ 41.8°)\n",
    "\n",
    "3\tPole Velocity At Tip\t(-Inf\tInf)"
   ]
  },
  {
   "cell_type": "markdown",
   "metadata": {},
   "source": [
    "# Take action: env.step(Action)"
   ]
  },
  {
   "cell_type": "markdown",
   "metadata": {},
   "source": [
    "# Visualization: env.render()"
   ]
  },
  {
   "cell_type": "code",
   "execution_count": null,
   "metadata": {},
   "outputs": [],
   "source": []
  }
 ],
 "metadata": {
  "kernelspec": {
   "display_name": "Python 3",
   "language": "python",
   "name": "python3"
  },
  "language_info": {
   "codemirror_mode": {
    "name": "ipython",
    "version": 3
   },
   "file_extension": ".py",
   "mimetype": "text/x-python",
   "name": "python",
   "nbconvert_exporter": "python",
   "pygments_lexer": "ipython3",
   "version": "3.7.3"
  }
 },
 "nbformat": 4,
 "nbformat_minor": 2
}

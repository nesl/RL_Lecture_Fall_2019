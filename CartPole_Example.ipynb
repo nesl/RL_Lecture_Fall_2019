{
 "cells": [
  {
   "cell_type": "markdown",
   "metadata": {},
   "source": [
    "# Cartpole environment"
   ]
  },
  {
   "cell_type": "code",
   "execution_count": 1,
   "metadata": {},
   "outputs": [
    {
     "data": {
      "text/plain": [
       "'/Users/sandeep/miniconda3/envs/rlenv/bin/python'"
      ]
     },
     "execution_count": 1,
     "metadata": {},
     "output_type": "execute_result"
    }
   ],
   "source": [
    "# See that, we are using the correct environment\n",
    "import sys\n",
    "sys.executable"
   ]
  },
  {
   "cell_type": "markdown",
   "metadata": {},
   "source": [
    "## A pole is attached by an un-actuated joint to a cart, which moves along a frictionless track. \n",
    "\n",
    "## Actions: The system is controlled by applying a force of +1 or -1 to the cart.  +1: accelerate right\n",
    "\n",
    "## Starting State and Goal: The pendulum starts upright, and the goal is to prevent it from falling over. \n",
    "\n",
    "## Reward: A reward of +1 is provided for every timestep that the pole remains upright. \n",
    "\n",
    "## Done: The episode ends when the pole is more than 15 degrees from vertical, or the cart moves more than 2.4 units from the center."
   ]
  },
  {
   "cell_type": "markdown",
   "metadata": {},
   "source": [
    "# Random Actions "
   ]
  },
  {
   "cell_type": "code",
   "execution_count": 4,
   "metadata": {},
   "outputs": [
    {
     "name": "stdout",
     "output_type": "stream",
     "text": [
      "Pole falls, after actions:24\n",
      "Pole falls, after actions:41\n",
      "Pole falls, after actions:54\n",
      "Pole falls, after actions:63\n",
      "Pole falls, after actions:94\n",
      "Pole falls, after actions:110\n",
      "Pole falls, after actions:123\n",
      "Pole falls, after actions:139\n",
      "Pole falls, after actions:149\n",
      "Pole falls, after actions:160\n",
      "Pole falls, after actions:171\n",
      "Pole falls, after actions:187\n",
      "Pole falls, after actions:210\n",
      "Pole falls, after actions:224\n",
      "Pole falls, after actions:257\n",
      "Pole falls, after actions:284\n",
      "Pole falls, after actions:319\n",
      "Pole falls, after actions:337\n",
      "Pole falls, after actions:355\n",
      "Pole falls, after actions:388\n",
      "Pole falls, after actions:408\n",
      "Pole falls, after actions:419\n",
      "Pole falls, after actions:491\n",
      "Pole falls, after actions:513\n",
      "Pole falls, after actions:537\n",
      "Pole falls, after actions:553\n",
      "Pole falls, after actions:567\n",
      "Pole falls, after actions:598\n",
      "Pole falls, after actions:612\n",
      "Pole falls, after actions:638\n",
      "Pole falls, after actions:648\n",
      "Pole falls, after actions:661\n",
      "Pole falls, after actions:678\n",
      "Pole falls, after actions:707\n",
      "Pole falls, after actions:724\n",
      "Pole falls, after actions:739\n",
      "Pole falls, after actions:750\n",
      "Pole falls, after actions:777\n",
      "Pole falls, after actions:830\n",
      "Pole falls, after actions:866\n",
      "Pole falls, after actions:910\n",
      "Pole falls, after actions:934\n",
      "Pole falls, after actions:975\n"
     ]
    }
   ],
   "source": [
    "import gym\n",
    "env = gym.make('CartPole-v0')\n",
    "env.reset()\n",
    "\n",
    "done = False\n",
    "\n",
    "for i in range(1000):\n",
    "    env.render()\n",
    "    \n",
    "    action = env.action_space.sample()\n",
    "    obs, _, done, _ = env.step(action) \n",
    "    \n",
    "    if done:\n",
    "        print('Pole falls, after actions:'+str(i))\n",
    "        env.reset()\n",
    "    \n",
    "env.close()"
   ]
  },
  {
   "cell_type": "markdown",
   "metadata": {},
   "source": [
    "# Main parts of the code"
   ]
  },
  {
   "cell_type": "markdown",
   "metadata": {},
   "source": [
    "# Create the environment"
   ]
  },
  {
   "cell_type": "code",
   "execution_count": 5,
   "metadata": {},
   "outputs": [],
   "source": [
    "env = gym.make('CartPole-v0')"
   ]
  },
  {
   "cell_type": "markdown",
   "metadata": {},
   "source": [
    "# Set Environment to initial condition\n",
    "## Example: Starting position of the cart"
   ]
  },
  {
   "cell_type": "code",
   "execution_count": 6,
   "metadata": {},
   "outputs": [
    {
     "data": {
      "text/plain": [
       "array([-0.03839502,  0.0267215 ,  0.04077438, -0.00399027])"
      ]
     },
     "execution_count": 6,
     "metadata": {},
     "output_type": "execute_result"
    }
   ],
   "source": [
    "env.reset()"
   ]
  },
  {
   "cell_type": "markdown",
   "metadata": {},
   "source": [
    "0\tCart Position\t(-2.4\t2.4)\n",
    "\n",
    "1\tCart Velocity\t(-Inf\tInf)\n",
    "\n",
    "2\tPole Angle\t(~ -41.8°\t~ 41.8°)\n",
    "\n",
    "3\tPole Velocity At Tip\t(-Inf\tInf)"
   ]
  },
  {
   "cell_type": "markdown",
   "metadata": {},
   "source": [
    "# Take action: env.step(Action)"
   ]
  },
  {
   "cell_type": "markdown",
   "metadata": {},
   "source": [
    "# Visualization: env.render()"
   ]
  },
  {
   "cell_type": "code",
   "execution_count": null,
   "metadata": {},
   "outputs": [],
   "source": []
  }
 ],
 "metadata": {
  "kernelspec": {
   "display_name": "Python 3",
   "language": "python",
   "name": "python3"
  },
  "language_info": {
   "codemirror_mode": {
    "name": "ipython",
    "version": 3
   },
   "file_extension": ".py",
   "mimetype": "text/x-python",
   "name": "python",
   "nbconvert_exporter": "python",
   "pygments_lexer": "ipython3",
   "version": "3.6.12"
  }
 },
 "nbformat": 4,
 "nbformat_minor": 2
}

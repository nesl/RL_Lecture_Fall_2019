{
 "cells": [
  {
   "cell_type": "markdown",
   "metadata": {},
   "source": [
    "# Deep Q Learning using Keras"
   ]
  },
  {
   "cell_type": "code",
   "execution_count": 1,
   "metadata": {
    "scrolled": true
   },
   "outputs": [],
   "source": [
    "import numpy as np\n",
    "import gym\n",
    "\n",
    "\n",
    "from keras.models import Sequential\n",
    "from keras.layers import Dense, Activation, Flatten\n",
    "from keras.optimizers import Adam\n",
    "\n",
    "from rl.agents.dqn import DQNAgent\n",
    "from rl.policy import EpsGreedyQPolicy\n",
    "from rl.memory import SequentialMemory"
   ]
  },
  {
   "cell_type": "markdown",
   "metadata": {},
   "source": [
    "# Gym env and actions"
   ]
  },
  {
   "cell_type": "code",
   "execution_count": 2,
   "metadata": {},
   "outputs": [],
   "source": [
    "ENV_NAME = 'CartPole-v0'\n",
    "\n",
    "# Get the environment and extract the number of actions available in the Cartpole problem\n",
    "env = gym.make(ENV_NAME)\n",
    "np.random.seed(1)\n",
    "env.seed(1)\n",
    "nb_actions = env.action_space.n"
   ]
  },
  {
   "cell_type": "code",
   "execution_count": 3,
   "metadata": {},
   "outputs": [
    {
     "name": "stdout",
     "output_type": "stream",
     "text": [
      "(1, 4)\n"
     ]
    }
   ],
   "source": [
    "input_shape=(1,) + env.observation_space.shape\n",
    "print(input_shape)"
   ]
  },
  {
   "cell_type": "markdown",
   "metadata": {},
   "source": [
    "# Simple NN model"
   ]
  },
  {
   "cell_type": "code",
   "execution_count": 4,
   "metadata": {},
   "outputs": [
    {
     "name": "stdout",
     "output_type": "stream",
     "text": [
      "WARNING:tensorflow:From /home/nesl/miniconda3/envs/mypython3/lib/python3.7/site-packages/keras/backend/tensorflow_backend.py:74: The name tf.get_default_graph is deprecated. Please use tf.compat.v1.get_default_graph instead.\n",
      "\n",
      "WARNING:tensorflow:From /home/nesl/miniconda3/envs/mypython3/lib/python3.7/site-packages/keras/backend/tensorflow_backend.py:517: The name tf.placeholder is deprecated. Please use tf.compat.v1.placeholder instead.\n",
      "\n",
      "WARNING:tensorflow:From /home/nesl/miniconda3/envs/mypython3/lib/python3.7/site-packages/keras/backend/tensorflow_backend.py:4138: The name tf.random_uniform is deprecated. Please use tf.random.uniform instead.\n",
      "\n",
      "_________________________________________________________________\n",
      "Layer (type)                 Output Shape              Param #   \n",
      "=================================================================\n",
      "flatten_1 (Flatten)          (None, 4)                 0         \n",
      "_________________________________________________________________\n",
      "dense_1 (Dense)              (None, 16)                80        \n",
      "_________________________________________________________________\n",
      "activation_1 (Activation)    (None, 16)                0         \n",
      "_________________________________________________________________\n",
      "dense_2 (Dense)              (None, 2)                 34        \n",
      "_________________________________________________________________\n",
      "activation_2 (Activation)    (None, 2)                 0         \n",
      "=================================================================\n",
      "Total params: 114\n",
      "Trainable params: 114\n",
      "Non-trainable params: 0\n",
      "_________________________________________________________________\n",
      "None\n"
     ]
    }
   ],
   "source": [
    "model = Sequential()\n",
    "model.add(Flatten(input_shape=(1,) + env.observation_space.shape))\n",
    "model.add(Dense(16))\n",
    "model.add(Activation('relu'))\n",
    "model.add(Dense(nb_actions))\n",
    "model.add(Activation('linear'))\n",
    "print(model.summary())"
   ]
  },
  {
   "cell_type": "code",
   "execution_count": null,
   "metadata": {},
   "outputs": [
    {
     "name": "stdout",
     "output_type": "stream",
     "text": [
      "WARNING:tensorflow:From /home/nesl/miniconda3/envs/mypython3/lib/python3.7/site-packages/keras/backend/tensorflow_backend.py:174: The name tf.get_default_session is deprecated. Please use tf.compat.v1.get_default_session instead.\n",
      "\n",
      "WARNING:tensorflow:From /home/nesl/miniconda3/envs/mypython3/lib/python3.7/site-packages/keras/backend/tensorflow_backend.py:181: The name tf.ConfigProto is deprecated. Please use tf.compat.v1.ConfigProto instead.\n",
      "\n"
     ]
    }
   ],
   "source": [
    "policy = LinearAnnealedPolicy(EpsGreedyQPolicy(), attr='eps', value_max=1.00,value_min=.05, value_test=.05,\n",
    "nb_steps=10000)\n",
    "\n",
    "memory = SequentialMemory(limit=10000, window_length=1)\n",
    "\n",
    "dqn = DQNAgent(model=model, nb_actions=nb_actions, memory=memory, nb_steps_warmup=10, target_model_update=100, policy=policy)\n",
    "\n",
    "dqn.compile(Adam(lr=0.001), metrics=['mae'])"
   ]
  },
  {
   "cell_type": "code",
   "execution_count": 11,
   "metadata": {},
   "outputs": [
    {
     "name": "stdout",
     "output_type": "stream",
     "text": [
      "Training for 50000 steps ...\n",
      "   200/50000: episode: 1, duration: 0.454s, episode steps: 200, steps per second: 441, episode reward: 200.000, mean reward: 1.000 [1.000, 1.000], mean action: 0.485 [0.000, 1.000], mean observation: -0.261 [-1.667, 0.530], loss: 7.963720, mean_absolute_error: 21.350580, mean_q: 42.705916\n",
      "   400/50000: episode: 2, duration: 0.468s, episode steps: 200, steps per second: 428, episode reward: 200.000, mean reward: 1.000 [1.000, 1.000], mean action: 0.490 [0.000, 1.000], mean observation: -0.139 [-0.859, 0.807], loss: 9.009680, mean_absolute_error: 21.738863, mean_q: 43.411633\n",
      "   600/50000: episode: 3, duration: 0.469s, episode steps: 200, steps per second: 426, episode reward: 200.000, mean reward: 1.000 [1.000, 1.000], mean action: 0.495 [0.000, 1.000], mean observation: -0.083 [-0.738, 0.829], loss: 7.174608, mean_absolute_error: 21.914589, mean_q: 43.932236\n",
      "   800/50000: episode: 4, duration: 0.464s, episode steps: 200, steps per second: 431, episode reward: 200.000, mean reward: 1.000 [1.000, 1.000], mean action: 0.500 [0.000, 1.000], mean observation: 0.017 [-0.938, 1.204], loss: 7.944230, mean_absolute_error: 22.202374, mean_q: 44.483437\n",
      "  1000/50000: episode: 5, duration: 0.465s, episode steps: 200, steps per second: 430, episode reward: 200.000, mean reward: 1.000 [1.000, 1.000], mean action: 0.500 [0.000, 1.000], mean observation: -0.048 [-0.598, 0.458], loss: 11.044861, mean_absolute_error: 22.529951, mean_q: 44.885693\n",
      "  1200/50000: episode: 6, duration: 0.465s, episode steps: 200, steps per second: 430, episode reward: 200.000, mean reward: 1.000 [1.000, 1.000], mean action: 0.495 [0.000, 1.000], mean observation: -0.049 [-0.622, 0.575], loss: 7.997375, mean_absolute_error: 22.683556, mean_q: 45.392834\n",
      "  1400/50000: episode: 7, duration: 0.463s, episode steps: 200, steps per second: 432, episode reward: 200.000, mean reward: 1.000 [1.000, 1.000], mean action: 0.495 [0.000, 1.000], mean observation: -0.053 [-0.541, 0.480], loss: 8.661980, mean_absolute_error: 22.973133, mean_q: 45.942822\n",
      "  1600/50000: episode: 8, duration: 0.464s, episode steps: 200, steps per second: 431, episode reward: 200.000, mean reward: 1.000 [1.000, 1.000], mean action: 0.495 [0.000, 1.000], mean observation: -0.049 [-0.636, 0.569], loss: 9.056969, mean_absolute_error: 23.220665, mean_q: 46.413525\n",
      "  1800/50000: episode: 9, duration: 0.463s, episode steps: 200, steps per second: 432, episode reward: 200.000, mean reward: 1.000 [1.000, 1.000], mean action: 0.500 [0.000, 1.000], mean observation: 0.041 [-0.484, 0.549], loss: 7.865121, mean_absolute_error: 23.438311, mean_q: 46.941162\n",
      "  2000/50000: episode: 10, duration: 0.478s, episode steps: 200, steps per second: 418, episode reward: 200.000, mean reward: 1.000 [1.000, 1.000], mean action: 0.500 [0.000, 1.000], mean observation: 0.154 [-0.640, 0.822], loss: 7.726793, mean_absolute_error: 23.675299, mean_q: 47.458324\n",
      "  2200/50000: episode: 11, duration: 0.465s, episode steps: 200, steps per second: 430, episode reward: 200.000, mean reward: 1.000 [1.000, 1.000], mean action: 0.490 [0.000, 1.000], mean observation: -0.100 [-0.957, 0.742], loss: 7.607850, mean_absolute_error: 24.007296, mean_q: 48.168583\n",
      "  2400/50000: episode: 12, duration: 0.480s, episode steps: 200, steps per second: 417, episode reward: 200.000, mean reward: 1.000 [1.000, 1.000], mean action: 0.505 [0.000, 1.000], mean observation: 0.060 [-0.358, 0.578], loss: 8.751704, mean_absolute_error: 24.245777, mean_q: 48.572567\n",
      "  2600/50000: episode: 13, duration: 0.476s, episode steps: 200, steps per second: 420, episode reward: 200.000, mean reward: 1.000 [1.000, 1.000], mean action: 0.495 [0.000, 1.000], mean observation: -0.014 [-0.919, 0.630], loss: 7.321052, mean_absolute_error: 24.550444, mean_q: 49.394299\n",
      "  2800/50000: episode: 14, duration: 0.466s, episode steps: 200, steps per second: 429, episode reward: 200.000, mean reward: 1.000 [1.000, 1.000], mean action: 0.490 [0.000, 1.000], mean observation: -0.240 [-1.508, 0.407], loss: 8.374175, mean_absolute_error: 24.829590, mean_q: 49.846424\n",
      "  3000/50000: episode: 15, duration: 0.466s, episode steps: 200, steps per second: 429, episode reward: 200.000, mean reward: 1.000 [1.000, 1.000], mean action: 0.495 [0.000, 1.000], mean observation: -0.078 [-0.572, 0.481], loss: 7.559896, mean_absolute_error: 25.005434, mean_q: 50.348576\n",
      "  3200/50000: episode: 16, duration: 0.476s, episode steps: 200, steps per second: 421, episode reward: 200.000, mean reward: 1.000 [1.000, 1.000], mean action: 0.490 [0.000, 1.000], mean observation: -0.198 [-1.209, 0.732], loss: 9.997691, mean_absolute_error: 25.339771, mean_q: 50.856796\n",
      "  3400/50000: episode: 17, duration: 0.465s, episode steps: 200, steps per second: 430, episode reward: 200.000, mean reward: 1.000 [1.000, 1.000], mean action: 0.490 [0.000, 1.000], mean observation: -0.180 [-1.155, 0.542], loss: 8.712072, mean_absolute_error: 25.472994, mean_q: 51.148926\n",
      "  3600/50000: episode: 18, duration: 0.479s, episode steps: 200, steps per second: 417, episode reward: 200.000, mean reward: 1.000 [1.000, 1.000], mean action: 0.485 [0.000, 1.000], mean observation: -0.287 [-1.907, 0.590], loss: 9.578943, mean_absolute_error: 25.691616, mean_q: 51.613575\n",
      "  3800/50000: episode: 19, duration: 0.467s, episode steps: 200, steps per second: 428, episode reward: 200.000, mean reward: 1.000 [1.000, 1.000], mean action: 0.490 [0.000, 1.000], mean observation: -0.123 [-0.925, 0.557], loss: 10.619610, mean_absolute_error: 25.878363, mean_q: 51.855419\n",
      "  4000/50000: episode: 20, duration: 0.467s, episode steps: 200, steps per second: 428, episode reward: 200.000, mean reward: 1.000 [1.000, 1.000], mean action: 0.495 [0.000, 1.000], mean observation: -0.083 [-0.700, 0.611], loss: 7.927217, mean_absolute_error: 26.049114, mean_q: 52.423946\n",
      "  4200/50000: episode: 21, duration: 0.464s, episode steps: 200, steps per second: 431, episode reward: 200.000, mean reward: 1.000 [1.000, 1.000], mean action: 0.480 [0.000, 1.000], mean observation: -0.317 [-2.062, 0.463], loss: 8.637039, mean_absolute_error: 26.273888, mean_q: 52.852314\n",
      "  4400/50000: episode: 22, duration: 0.464s, episode steps: 200, steps per second: 431, episode reward: 200.000, mean reward: 1.000 [1.000, 1.000], mean action: 0.490 [0.000, 1.000], mean observation: -0.151 [-1.015, 0.502], loss: 8.656521, mean_absolute_error: 26.488998, mean_q: 53.279747\n",
      "  4600/50000: episode: 23, duration: 0.463s, episode steps: 200, steps per second: 432, episode reward: 200.000, mean reward: 1.000 [1.000, 1.000], mean action: 0.495 [0.000, 1.000], mean observation: -0.016 [-0.606, 0.595], loss: 9.026754, mean_absolute_error: 26.713535, mean_q: 53.801342\n",
      "  4800/50000: episode: 24, duration: 0.465s, episode steps: 200, steps per second: 430, episode reward: 200.000, mean reward: 1.000 [1.000, 1.000], mean action: 0.490 [0.000, 1.000], mean observation: -0.151 [-1.042, 0.564], loss: 9.090899, mean_absolute_error: 27.036562, mean_q: 54.447247\n",
      "  5000/50000: episode: 25, duration: 0.468s, episode steps: 200, steps per second: 427, episode reward: 200.000, mean reward: 1.000 [1.000, 1.000], mean action: 0.485 [0.000, 1.000], mean observation: -0.269 [-1.829, 0.558], loss: 7.392050, mean_absolute_error: 27.265253, mean_q: 54.958805\n",
      "  5200/50000: episode: 26, duration: 0.463s, episode steps: 200, steps per second: 432, episode reward: 200.000, mean reward: 1.000 [1.000, 1.000], mean action: 0.500 [0.000, 1.000], mean observation: 0.011 [-0.679, 0.681], loss: 8.534156, mean_absolute_error: 27.474615, mean_q: 55.369503\n",
      "  5400/50000: episode: 27, duration: 0.465s, episode steps: 200, steps per second: 430, episode reward: 200.000, mean reward: 1.000 [1.000, 1.000], mean action: 0.490 [0.000, 1.000], mean observation: -0.195 [-1.269, 0.519], loss: 9.989929, mean_absolute_error: 27.783113, mean_q: 55.945744\n",
      "  5600/50000: episode: 28, duration: 0.470s, episode steps: 200, steps per second: 425, episode reward: 200.000, mean reward: 1.000 [1.000, 1.000], mean action: 0.490 [0.000, 1.000], mean observation: -0.175 [-1.111, 0.506], loss: 7.355481, mean_absolute_error: 27.900156, mean_q: 56.335800\n",
      "  5800/50000: episode: 29, duration: 0.472s, episode steps: 200, steps per second: 423, episode reward: 200.000, mean reward: 1.000 [1.000, 1.000], mean action: 0.490 [0.000, 1.000], mean observation: -0.138 [-0.911, 0.751], loss: 9.483759, mean_absolute_error: 28.235451, mean_q: 56.978886\n"
     ]
    },
    {
     "name": "stdout",
     "output_type": "stream",
     "text": [
      "  6000/50000: episode: 30, duration: 0.483s, episode steps: 200, steps per second: 414, episode reward: 200.000, mean reward: 1.000 [1.000, 1.000], mean action: 0.490 [0.000, 1.000], mean observation: -0.171 [-1.079, 0.624], loss: 10.947314, mean_absolute_error: 28.351948, mean_q: 57.125492\n",
      "  6200/50000: episode: 31, duration: 0.491s, episode steps: 200, steps per second: 407, episode reward: 200.000, mean reward: 1.000 [1.000, 1.000], mean action: 0.490 [0.000, 1.000], mean observation: -0.208 [-1.358, 0.594], loss: 10.362570, mean_absolute_error: 28.573654, mean_q: 57.595177\n",
      "  6400/50000: episode: 32, duration: 0.506s, episode steps: 200, steps per second: 395, episode reward: 200.000, mean reward: 1.000 [1.000, 1.000], mean action: 0.495 [0.000, 1.000], mean observation: -0.103 [-0.711, 0.607], loss: 12.674486, mean_absolute_error: 28.679949, mean_q: 57.744164\n",
      "  6600/50000: episode: 33, duration: 0.506s, episode steps: 200, steps per second: 395, episode reward: 200.000, mean reward: 1.000 [1.000, 1.000], mean action: 0.490 [0.000, 1.000], mean observation: -0.146 [-0.940, 0.506], loss: 10.721833, mean_absolute_error: 28.730858, mean_q: 57.962460\n",
      "  6800/50000: episode: 34, duration: 0.513s, episode steps: 200, steps per second: 390, episode reward: 200.000, mean reward: 1.000 [1.000, 1.000], mean action: 0.490 [0.000, 1.000], mean observation: -0.207 [-1.297, 0.508], loss: 11.085686, mean_absolute_error: 28.908482, mean_q: 58.225494\n",
      "  7000/50000: episode: 35, duration: 0.493s, episode steps: 200, steps per second: 406, episode reward: 200.000, mean reward: 1.000 [1.000, 1.000], mean action: 0.495 [0.000, 1.000], mean observation: -0.055 [-0.700, 0.576], loss: 9.052559, mean_absolute_error: 29.153545, mean_q: 58.870327\n",
      "  7200/50000: episode: 36, duration: 0.492s, episode steps: 200, steps per second: 407, episode reward: 200.000, mean reward: 1.000 [1.000, 1.000], mean action: 0.505 [0.000, 1.000], mean observation: 0.106 [-0.728, 0.622], loss: 10.370693, mean_absolute_error: 29.413385, mean_q: 59.287689\n",
      "  7400/50000: episode: 37, duration: 0.507s, episode steps: 200, steps per second: 395, episode reward: 200.000, mean reward: 1.000 [1.000, 1.000], mean action: 0.490 [0.000, 1.000], mean observation: -0.127 [-0.795, 0.573], loss: 10.364040, mean_absolute_error: 29.504107, mean_q: 59.444645\n",
      "  7600/50000: episode: 38, duration: 0.508s, episode steps: 200, steps per second: 394, episode reward: 200.000, mean reward: 1.000 [1.000, 1.000], mean action: 0.500 [0.000, 1.000], mean observation: -0.035 [-0.393, 0.502], loss: 11.213149, mean_absolute_error: 29.695385, mean_q: 59.955414\n",
      "  7800/50000: episode: 39, duration: 0.501s, episode steps: 200, steps per second: 399, episode reward: 200.000, mean reward: 1.000 [1.000, 1.000], mean action: 0.500 [0.000, 1.000], mean observation: -0.025 [-0.462, 0.552], loss: 10.526015, mean_absolute_error: 29.835093, mean_q: 60.253368\n",
      "  8000/50000: episode: 40, duration: 0.540s, episode steps: 200, steps per second: 370, episode reward: 200.000, mean reward: 1.000 [1.000, 1.000], mean action: 0.500 [0.000, 1.000], mean observation: 0.027 [-0.344, 0.549], loss: 10.237650, mean_absolute_error: 30.206709, mean_q: 61.038330\n",
      "  8200/50000: episode: 41, duration: 0.490s, episode steps: 200, steps per second: 408, episode reward: 200.000, mean reward: 1.000 [1.000, 1.000], mean action: 0.495 [0.000, 1.000], mean observation: -0.059 [-0.648, 0.636], loss: 10.836093, mean_absolute_error: 30.251793, mean_q: 61.083546\n",
      "  8400/50000: episode: 42, duration: 0.498s, episode steps: 200, steps per second: 401, episode reward: 200.000, mean reward: 1.000 [1.000, 1.000], mean action: 0.490 [0.000, 1.000], mean observation: -0.145 [-0.952, 0.525], loss: 10.600365, mean_absolute_error: 30.467573, mean_q: 61.560513\n",
      "  8600/50000: episode: 43, duration: 0.480s, episode steps: 200, steps per second: 417, episode reward: 200.000, mean reward: 1.000 [1.000, 1.000], mean action: 0.495 [0.000, 1.000], mean observation: -0.065 [-0.792, 0.879], loss: 11.409472, mean_absolute_error: 30.678034, mean_q: 61.852295\n",
      "  8800/50000: episode: 44, duration: 0.481s, episode steps: 200, steps per second: 416, episode reward: 200.000, mean reward: 1.000 [1.000, 1.000], mean action: 0.490 [0.000, 1.000], mean observation: -0.115 [-0.902, 0.552], loss: 10.575933, mean_absolute_error: 30.728184, mean_q: 62.057186\n",
      "  9000/50000: episode: 45, duration: 0.500s, episode steps: 200, steps per second: 400, episode reward: 200.000, mean reward: 1.000 [1.000, 1.000], mean action: 0.495 [0.000, 1.000], mean observation: -0.063 [-0.929, 0.568], loss: 12.181714, mean_absolute_error: 30.936735, mean_q: 62.346603\n",
      "  9200/50000: episode: 46, duration: 0.513s, episode steps: 200, steps per second: 390, episode reward: 200.000, mean reward: 1.000 [1.000, 1.000], mean action: 0.500 [0.000, 1.000], mean observation: -0.050 [-0.664, 0.525], loss: 9.742329, mean_absolute_error: 31.028696, mean_q: 62.672626\n",
      "  9400/50000: episode: 47, duration: 2.857s, episode steps: 200, steps per second: 70, episode reward: 200.000, mean reward: 1.000 [1.000, 1.000], mean action: 0.500 [0.000, 1.000], mean observation: -0.046 [-0.587, 0.614], loss: 11.709742, mean_absolute_error: 31.304028, mean_q: 63.212994\n",
      "  9600/50000: episode: 48, duration: 0.998s, episode steps: 200, steps per second: 200, episode reward: 200.000, mean reward: 1.000 [1.000, 1.000], mean action: 0.495 [0.000, 1.000], mean observation: -0.017 [-0.625, 0.420], loss: 11.503663, mean_absolute_error: 31.419428, mean_q: 63.395828\n",
      "  9800/50000: episode: 49, duration: 0.501s, episode steps: 200, steps per second: 399, episode reward: 200.000, mean reward: 1.000 [1.000, 1.000], mean action: 0.495 [0.000, 1.000], mean observation: -0.103 [-0.678, 0.607], loss: 9.364481, mean_absolute_error: 31.634727, mean_q: 63.821342\n",
      " 10000/50000: episode: 50, duration: 0.486s, episode steps: 200, steps per second: 412, episode reward: 200.000, mean reward: 1.000 [1.000, 1.000], mean action: 0.490 [0.000, 1.000], mean observation: -0.137 [-0.918, 0.533], loss: 11.976933, mean_absolute_error: 31.611311, mean_q: 63.757843\n",
      " 10200/50000: episode: 51, duration: 0.484s, episode steps: 200, steps per second: 414, episode reward: 200.000, mean reward: 1.000 [1.000, 1.000], mean action: 0.485 [0.000, 1.000], mean observation: -0.205 [-1.272, 0.547], loss: 9.917049, mean_absolute_error: 31.697021, mean_q: 64.064964\n",
      " 10391/50000: episode: 52, duration: 0.470s, episode steps: 191, steps per second: 406, episode reward: 191.000, mean reward: 1.000 [1.000, 1.000], mean action: 0.476 [0.000, 1.000], mean observation: -0.385 [-2.436, 0.436], loss: 11.199927, mean_absolute_error: 31.974649, mean_q: 64.575157\n",
      " 10591/50000: episode: 53, duration: 1.606s, episode steps: 200, steps per second: 125, episode reward: 200.000, mean reward: 1.000 [1.000, 1.000], mean action: 0.510 [0.000, 1.000], mean observation: 0.154 [-0.516, 0.913], loss: 11.399844, mean_absolute_error: 31.948547, mean_q: 64.481140\n",
      " 10791/50000: episode: 54, duration: 0.937s, episode steps: 200, steps per second: 214, episode reward: 200.000, mean reward: 1.000 [1.000, 1.000], mean action: 0.500 [0.000, 1.000], mean observation: -0.042 [-0.522, 0.544], loss: 11.576005, mean_absolute_error: 32.035156, mean_q: 64.678528\n",
      " 10991/50000: episode: 55, duration: 0.472s, episode steps: 200, steps per second: 424, episode reward: 200.000, mean reward: 1.000 [1.000, 1.000], mean action: 0.500 [0.000, 1.000], mean observation: 0.011 [-0.621, 0.511], loss: 9.297947, mean_absolute_error: 32.236710, mean_q: 65.178680\n",
      " 11191/50000: episode: 56, duration: 0.471s, episode steps: 200, steps per second: 425, episode reward: 200.000, mean reward: 1.000 [1.000, 1.000], mean action: 0.495 [0.000, 1.000], mean observation: -0.032 [-0.648, 0.527], loss: 10.621089, mean_absolute_error: 32.482334, mean_q: 65.581413\n",
      " 11391/50000: episode: 57, duration: 0.484s, episode steps: 200, steps per second: 413, episode reward: 200.000, mean reward: 1.000 [1.000, 1.000], mean action: 0.485 [0.000, 1.000], mean observation: -0.210 [-1.401, 0.399], loss: 11.607122, mean_absolute_error: 32.472145, mean_q: 65.604309\n",
      " 11591/50000: episode: 58, duration: 0.500s, episode steps: 200, steps per second: 400, episode reward: 200.000, mean reward: 1.000 [1.000, 1.000], mean action: 0.495 [0.000, 1.000], mean observation: -0.050 [-0.846, 0.619], loss: 11.391815, mean_absolute_error: 32.505817, mean_q: 65.666412\n"
     ]
    },
    {
     "name": "stdout",
     "output_type": "stream",
     "text": [
      " 11791/50000: episode: 59, duration: 0.488s, episode steps: 200, steps per second: 410, episode reward: 200.000, mean reward: 1.000 [1.000, 1.000], mean action: 0.505 [0.000, 1.000], mean observation: -0.098 [-1.128, 1.124], loss: 10.417451, mean_absolute_error: 32.685566, mean_q: 66.067879\n",
      " 11991/50000: episode: 60, duration: 0.477s, episode steps: 200, steps per second: 419, episode reward: 200.000, mean reward: 1.000 [1.000, 1.000], mean action: 0.510 [0.000, 1.000], mean observation: 0.173 [-0.563, 1.132], loss: 11.421991, mean_absolute_error: 32.811859, mean_q: 66.317726\n",
      " 12191/50000: episode: 61, duration: 0.496s, episode steps: 200, steps per second: 404, episode reward: 200.000, mean reward: 1.000 [1.000, 1.000], mean action: 0.495 [0.000, 1.000], mean observation: -0.102 [-0.665, 0.498], loss: 14.488133, mean_absolute_error: 33.241486, mean_q: 67.004433\n",
      " 12391/50000: episode: 62, duration: 0.491s, episode steps: 200, steps per second: 407, episode reward: 200.000, mean reward: 1.000 [1.000, 1.000], mean action: 0.495 [0.000, 1.000], mean observation: -0.002 [-0.612, 0.549], loss: 10.619328, mean_absolute_error: 33.086582, mean_q: 66.784760\n",
      " 12591/50000: episode: 63, duration: 0.504s, episode steps: 200, steps per second: 397, episode reward: 200.000, mean reward: 1.000 [1.000, 1.000], mean action: 0.490 [0.000, 1.000], mean observation: -0.162 [-1.100, 0.465], loss: 11.992810, mean_absolute_error: 33.229488, mean_q: 67.110802\n",
      " 12791/50000: episode: 64, duration: 0.496s, episode steps: 200, steps per second: 404, episode reward: 200.000, mean reward: 1.000 [1.000, 1.000], mean action: 0.495 [0.000, 1.000], mean observation: -0.068 [-0.567, 0.530], loss: 14.702014, mean_absolute_error: 33.128639, mean_q: 66.841827\n",
      " 12991/50000: episode: 65, duration: 0.467s, episode steps: 200, steps per second: 428, episode reward: 200.000, mean reward: 1.000 [1.000, 1.000], mean action: 0.500 [0.000, 1.000], mean observation: -0.037 [-0.639, 0.688], loss: 13.239346, mean_absolute_error: 33.288380, mean_q: 67.171707\n",
      " 13191/50000: episode: 66, duration: 0.470s, episode steps: 200, steps per second: 426, episode reward: 200.000, mean reward: 1.000 [1.000, 1.000], mean action: 0.495 [0.000, 1.000], mean observation: -0.065 [-0.672, 0.545], loss: 9.109447, mean_absolute_error: 33.468533, mean_q: 67.703148\n",
      " 13391/50000: episode: 67, duration: 0.467s, episode steps: 200, steps per second: 428, episode reward: 200.000, mean reward: 1.000 [1.000, 1.000], mean action: 0.495 [0.000, 1.000], mean observation: -0.030 [-0.552, 0.493], loss: 13.142348, mean_absolute_error: 33.737530, mean_q: 68.048592\n",
      " 13591/50000: episode: 68, duration: 0.467s, episode steps: 200, steps per second: 428, episode reward: 200.000, mean reward: 1.000 [1.000, 1.000], mean action: 0.495 [0.000, 1.000], mean observation: 0.011 [-0.614, 0.558], loss: 9.952501, mean_absolute_error: 33.613194, mean_q: 67.993935\n",
      " 13791/50000: episode: 69, duration: 0.467s, episode steps: 200, steps per second: 428, episode reward: 200.000, mean reward: 1.000 [1.000, 1.000], mean action: 0.485 [0.000, 1.000], mean observation: -0.243 [-1.613, 0.538], loss: 11.181709, mean_absolute_error: 33.914955, mean_q: 68.492920\n",
      " 13991/50000: episode: 70, duration: 0.464s, episode steps: 200, steps per second: 431, episode reward: 200.000, mean reward: 1.000 [1.000, 1.000], mean action: 0.500 [0.000, 1.000], mean observation: 0.004 [-0.671, 0.532], loss: 11.400417, mean_absolute_error: 34.042423, mean_q: 68.701561\n",
      " 14191/50000: episode: 71, duration: 0.463s, episode steps: 200, steps per second: 432, episode reward: 200.000, mean reward: 1.000 [1.000, 1.000], mean action: 0.500 [0.000, 1.000], mean observation: -0.005 [-0.620, 0.544], loss: 13.034202, mean_absolute_error: 34.174122, mean_q: 68.929520\n",
      " 14391/50000: episode: 72, duration: 0.464s, episode steps: 200, steps per second: 431, episode reward: 200.000, mean reward: 1.000 [1.000, 1.000], mean action: 0.500 [0.000, 1.000], mean observation: -0.029 [-0.497, 0.518], loss: 12.629617, mean_absolute_error: 34.254223, mean_q: 69.053513\n",
      " 14591/50000: episode: 73, duration: 0.463s, episode steps: 200, steps per second: 432, episode reward: 200.000, mean reward: 1.000 [1.000, 1.000], mean action: 0.495 [0.000, 1.000], mean observation: -0.025 [-0.701, 0.565], loss: 11.420877, mean_absolute_error: 34.619862, mean_q: 69.830521\n",
      " 14791/50000: episode: 74, duration: 0.465s, episode steps: 200, steps per second: 430, episode reward: 200.000, mean reward: 1.000 [1.000, 1.000], mean action: 0.490 [0.000, 1.000], mean observation: -0.190 [-1.228, 0.544], loss: 12.485029, mean_absolute_error: 34.398190, mean_q: 69.382057\n",
      " 14991/50000: episode: 75, duration: 0.464s, episode steps: 200, steps per second: 431, episode reward: 200.000, mean reward: 1.000 [1.000, 1.000], mean action: 0.495 [0.000, 1.000], mean observation: -0.036 [-0.840, 0.627], loss: 10.487292, mean_absolute_error: 34.415665, mean_q: 69.564812\n",
      " 15191/50000: episode: 76, duration: 0.464s, episode steps: 200, steps per second: 431, episode reward: 200.000, mean reward: 1.000 [1.000, 1.000], mean action: 0.505 [0.000, 1.000], mean observation: 0.061 [-0.521, 0.667], loss: 14.629224, mean_absolute_error: 34.484093, mean_q: 69.515549\n",
      " 15391/50000: episode: 77, duration: 0.465s, episode steps: 200, steps per second: 430, episode reward: 200.000, mean reward: 1.000 [1.000, 1.000], mean action: 0.495 [0.000, 1.000], mean observation: -0.098 [-0.965, 1.112], loss: 9.715981, mean_absolute_error: 34.647675, mean_q: 70.063354\n",
      " 15591/50000: episode: 78, duration: 0.462s, episode steps: 200, steps per second: 433, episode reward: 200.000, mean reward: 1.000 [1.000, 1.000], mean action: 0.500 [0.000, 1.000], mean observation: -0.012 [-0.574, 0.712], loss: 11.433093, mean_absolute_error: 34.857594, mean_q: 70.379250\n",
      " 15791/50000: episode: 79, duration: 0.466s, episode steps: 200, steps per second: 429, episode reward: 200.000, mean reward: 1.000 [1.000, 1.000], mean action: 0.495 [0.000, 1.000], mean observation: 0.076 [-1.132, 0.977], loss: 14.045166, mean_absolute_error: 34.788311, mean_q: 70.076805\n",
      " 15991/50000: episode: 80, duration: 0.462s, episode steps: 200, steps per second: 433, episode reward: 200.000, mean reward: 1.000 [1.000, 1.000], mean action: 0.490 [0.000, 1.000], mean observation: -0.105 [-0.740, 0.362], loss: 11.154319, mean_absolute_error: 34.991600, mean_q: 70.658829\n",
      " 16191/50000: episode: 81, duration: 0.463s, episode steps: 200, steps per second: 432, episode reward: 200.000, mean reward: 1.000 [1.000, 1.000], mean action: 0.490 [0.000, 1.000], mean observation: -0.166 [-1.110, 0.540], loss: 11.049521, mean_absolute_error: 35.014660, mean_q: 70.672043\n",
      " 16391/50000: episode: 82, duration: 0.464s, episode steps: 200, steps per second: 431, episode reward: 200.000, mean reward: 1.000 [1.000, 1.000], mean action: 0.490 [0.000, 1.000], mean observation: -0.138 [-0.884, 0.957], loss: 13.907681, mean_absolute_error: 35.113033, mean_q: 70.810532\n",
      " 16591/50000: episode: 83, duration: 0.466s, episode steps: 200, steps per second: 429, episode reward: 200.000, mean reward: 1.000 [1.000, 1.000], mean action: 0.495 [0.000, 1.000], mean observation: -0.046 [-0.417, 0.480], loss: 9.506089, mean_absolute_error: 35.289398, mean_q: 71.322273\n",
      " 16791/50000: episode: 84, duration: 0.466s, episode steps: 200, steps per second: 429, episode reward: 200.000, mean reward: 1.000 [1.000, 1.000], mean action: 0.495 [0.000, 1.000], mean observation: -0.066 [-0.704, 0.585], loss: 13.189151, mean_absolute_error: 35.303986, mean_q: 71.174805\n",
      " 16991/50000: episode: 85, duration: 0.466s, episode steps: 200, steps per second: 430, episode reward: 200.000, mean reward: 1.000 [1.000, 1.000], mean action: 0.495 [0.000, 1.000], mean observation: 0.001 [-0.552, 0.518], loss: 10.065022, mean_absolute_error: 35.374493, mean_q: 71.452591\n",
      " 17191/50000: episode: 86, duration: 0.465s, episode steps: 200, steps per second: 430, episode reward: 200.000, mean reward: 1.000 [1.000, 1.000], mean action: 0.500 [0.000, 1.000], mean observation: -0.060 [-0.592, 0.445], loss: 13.561346, mean_absolute_error: 35.449387, mean_q: 71.534538\n",
      " 17391/50000: episode: 87, duration: 0.465s, episode steps: 200, steps per second: 430, episode reward: 200.000, mean reward: 1.000 [1.000, 1.000], mean action: 0.495 [0.000, 1.000], mean observation: -0.011 [-0.605, 0.583], loss: 12.127189, mean_absolute_error: 35.489265, mean_q: 71.752647\n"
     ]
    },
    {
     "name": "stdout",
     "output_type": "stream",
     "text": [
      " 17591/50000: episode: 88, duration: 0.463s, episode steps: 200, steps per second: 432, episode reward: 200.000, mean reward: 1.000 [1.000, 1.000], mean action: 0.495 [0.000, 1.000], mean observation: -0.097 [-0.800, 0.545], loss: 12.381862, mean_absolute_error: 35.651646, mean_q: 71.971214\n",
      " 17791/50000: episode: 89, duration: 0.463s, episode steps: 200, steps per second: 432, episode reward: 200.000, mean reward: 1.000 [1.000, 1.000], mean action: 0.495 [0.000, 1.000], mean observation: -0.036 [-0.684, 0.787], loss: 10.990753, mean_absolute_error: 35.617886, mean_q: 71.994080\n",
      " 17991/50000: episode: 90, duration: 0.461s, episode steps: 200, steps per second: 433, episode reward: 200.000, mean reward: 1.000 [1.000, 1.000], mean action: 0.500 [0.000, 1.000], mean observation: -0.014 [-0.614, 0.526], loss: 14.793518, mean_absolute_error: 35.885632, mean_q: 72.353989\n",
      " 18191/50000: episode: 91, duration: 0.466s, episode steps: 200, steps per second: 429, episode reward: 200.000, mean reward: 1.000 [1.000, 1.000], mean action: 0.495 [0.000, 1.000], mean observation: -0.087 [-0.759, 0.544], loss: 8.074473, mean_absolute_error: 35.948792, mean_q: 72.841125\n",
      " 18391/50000: episode: 92, duration: 0.463s, episode steps: 200, steps per second: 432, episode reward: 200.000, mean reward: 1.000 [1.000, 1.000], mean action: 0.485 [0.000, 1.000], mean observation: -0.180 [-1.218, 0.648], loss: 11.636531, mean_absolute_error: 36.031921, mean_q: 72.944016\n",
      " 18591/50000: episode: 93, duration: 0.465s, episode steps: 200, steps per second: 430, episode reward: 200.000, mean reward: 1.000 [1.000, 1.000], mean action: 0.500 [0.000, 1.000], mean observation: 0.020 [-0.633, 0.565], loss: 8.880651, mean_absolute_error: 36.183926, mean_q: 73.252815\n",
      " 18791/50000: episode: 94, duration: 0.464s, episode steps: 200, steps per second: 431, episode reward: 200.000, mean reward: 1.000 [1.000, 1.000], mean action: 0.485 [0.000, 1.000], mean observation: -0.179 [-1.193, 0.590], loss: 14.347793, mean_absolute_error: 36.261429, mean_q: 73.301323\n",
      " 18991/50000: episode: 95, duration: 0.463s, episode steps: 200, steps per second: 432, episode reward: 200.000, mean reward: 1.000 [1.000, 1.000], mean action: 0.480 [0.000, 1.000], mean observation: -0.264 [-1.793, 0.744], loss: 11.924335, mean_absolute_error: 36.300037, mean_q: 73.493889\n",
      " 19191/50000: episode: 96, duration: 0.463s, episode steps: 200, steps per second: 432, episode reward: 200.000, mean reward: 1.000 [1.000, 1.000], mean action: 0.500 [0.000, 1.000], mean observation: 0.003 [-0.648, 0.532], loss: 12.565638, mean_absolute_error: 36.506840, mean_q: 73.795509\n",
      " 19391/50000: episode: 97, duration: 0.462s, episode steps: 200, steps per second: 433, episode reward: 200.000, mean reward: 1.000 [1.000, 1.000], mean action: 0.495 [0.000, 1.000], mean observation: -0.012 [-0.658, 0.564], loss: 13.348489, mean_absolute_error: 36.373112, mean_q: 73.506493\n",
      " 19591/50000: episode: 98, duration: 0.469s, episode steps: 200, steps per second: 427, episode reward: 200.000, mean reward: 1.000 [1.000, 1.000], mean action: 0.505 [0.000, 1.000], mean observation: 0.094 [-0.709, 0.852], loss: 12.825196, mean_absolute_error: 36.488529, mean_q: 73.726807\n",
      " 19791/50000: episode: 99, duration: 0.464s, episode steps: 200, steps per second: 431, episode reward: 200.000, mean reward: 1.000 [1.000, 1.000], mean action: 0.490 [0.000, 1.000], mean observation: -0.134 [-0.952, 0.692], loss: 13.017226, mean_absolute_error: 36.679039, mean_q: 74.189522\n",
      " 19991/50000: episode: 100, duration: 0.462s, episode steps: 200, steps per second: 433, episode reward: 200.000, mean reward: 1.000 [1.000, 1.000], mean action: 0.490 [0.000, 1.000], mean observation: -0.098 [-0.833, 0.789], loss: 9.081083, mean_absolute_error: 36.722279, mean_q: 74.311249\n",
      " 20191/50000: episode: 101, duration: 0.463s, episode steps: 200, steps per second: 432, episode reward: 200.000, mean reward: 1.000 [1.000, 1.000], mean action: 0.485 [0.000, 1.000], mean observation: -0.212 [-1.421, 0.453], loss: 12.645500, mean_absolute_error: 36.875462, mean_q: 74.566139\n",
      " 20391/50000: episode: 102, duration: 0.463s, episode steps: 200, steps per second: 432, episode reward: 200.000, mean reward: 1.000 [1.000, 1.000], mean action: 0.485 [0.000, 1.000], mean observation: -0.179 [-1.233, 0.493], loss: 10.352839, mean_absolute_error: 36.775146, mean_q: 74.465843\n",
      " 20591/50000: episode: 103, duration: 0.465s, episode steps: 200, steps per second: 430, episode reward: 200.000, mean reward: 1.000 [1.000, 1.000], mean action: 0.490 [0.000, 1.000], mean observation: -0.130 [-0.950, 0.392], loss: 9.428047, mean_absolute_error: 37.180710, mean_q: 75.272888\n",
      " 20791/50000: episode: 104, duration: 0.465s, episode steps: 200, steps per second: 430, episode reward: 200.000, mean reward: 1.000 [1.000, 1.000], mean action: 0.495 [0.000, 1.000], mean observation: -0.015 [-0.522, 0.533], loss: 12.144454, mean_absolute_error: 37.303452, mean_q: 75.374168\n",
      " 20991/50000: episode: 105, duration: 0.468s, episode steps: 200, steps per second: 427, episode reward: 200.000, mean reward: 1.000 [1.000, 1.000], mean action: 0.500 [0.000, 1.000], mean observation: 0.037 [-0.698, 0.733], loss: 10.470176, mean_absolute_error: 37.376930, mean_q: 75.639603\n",
      " 21191/50000: episode: 106, duration: 0.463s, episode steps: 200, steps per second: 432, episode reward: 200.000, mean reward: 1.000 [1.000, 1.000], mean action: 0.490 [0.000, 1.000], mean observation: -0.125 [-0.844, 0.421], loss: 10.797547, mean_absolute_error: 37.438553, mean_q: 75.725731\n",
      " 21391/50000: episode: 107, duration: 0.465s, episode steps: 200, steps per second: 430, episode reward: 200.000, mean reward: 1.000 [1.000, 1.000], mean action: 0.485 [0.000, 1.000], mean observation: -0.202 [-1.373, 0.518], loss: 15.675547, mean_absolute_error: 37.409306, mean_q: 75.459480\n",
      " 21591/50000: episode: 108, duration: 0.470s, episode steps: 200, steps per second: 426, episode reward: 200.000, mean reward: 1.000 [1.000, 1.000], mean action: 0.475 [0.000, 1.000], mean observation: -0.354 [-2.413, 0.538], loss: 9.671721, mean_absolute_error: 37.430389, mean_q: 75.722679\n",
      " 21791/50000: episode: 109, duration: 0.464s, episode steps: 200, steps per second: 431, episode reward: 200.000, mean reward: 1.000 [1.000, 1.000], mean action: 0.480 [0.000, 1.000], mean observation: -0.264 [-1.819, 0.518], loss: 10.792798, mean_absolute_error: 37.495651, mean_q: 75.831474\n",
      " 21991/50000: episode: 110, duration: 0.468s, episode steps: 200, steps per second: 427, episode reward: 200.000, mean reward: 1.000 [1.000, 1.000], mean action: 0.475 [0.000, 1.000], mean observation: -0.322 [-2.232, 0.355], loss: 11.370732, mean_absolute_error: 37.616699, mean_q: 76.091248\n",
      " 22191/50000: episode: 111, duration: 0.465s, episode steps: 200, steps per second: 431, episode reward: 200.000, mean reward: 1.000 [1.000, 1.000], mean action: 0.485 [0.000, 1.000], mean observation: -0.201 [-1.388, 0.706], loss: 11.093481, mean_absolute_error: 37.521076, mean_q: 75.807785\n",
      " 22391/50000: episode: 112, duration: 0.463s, episode steps: 200, steps per second: 432, episode reward: 200.000, mean reward: 1.000 [1.000, 1.000], mean action: 0.485 [0.000, 1.000], mean observation: -0.142 [-1.111, 0.945], loss: 13.342447, mean_absolute_error: 37.511826, mean_q: 75.666649\n",
      " 22591/50000: episode: 113, duration: 0.466s, episode steps: 200, steps per second: 429, episode reward: 200.000, mean reward: 1.000 [1.000, 1.000], mean action: 0.485 [0.000, 1.000], mean observation: -0.237 [-1.669, 0.558], loss: 11.584187, mean_absolute_error: 37.751835, mean_q: 76.231834\n",
      " 22791/50000: episode: 114, duration: 0.463s, episode steps: 200, steps per second: 432, episode reward: 200.000, mean reward: 1.000 [1.000, 1.000], mean action: 0.475 [0.000, 1.000], mean observation: -0.330 [-2.351, 0.727], loss: 9.648556, mean_absolute_error: 37.971397, mean_q: 76.774879\n",
      " 22991/50000: episode: 115, duration: 0.474s, episode steps: 200, steps per second: 422, episode reward: 200.000, mean reward: 1.000 [1.000, 1.000], mean action: 0.490 [0.000, 1.000], mean observation: -0.119 [-0.887, 0.431], loss: 8.693133, mean_absolute_error: 37.716553, mean_q: 76.315620\n",
      " 23191/50000: episode: 116, duration: 0.477s, episode steps: 200, steps per second: 419, episode reward: 200.000, mean reward: 1.000 [1.000, 1.000], mean action: 0.485 [0.000, 1.000], mean observation: -0.179 [-1.236, 0.615], loss: 14.874292, mean_absolute_error: 37.918941, mean_q: 76.436127\n"
     ]
    },
    {
     "name": "stdout",
     "output_type": "stream",
     "text": [
      " 23391/50000: episode: 117, duration: 0.476s, episode steps: 200, steps per second: 420, episode reward: 200.000, mean reward: 1.000 [1.000, 1.000], mean action: 0.500 [0.000, 1.000], mean observation: 0.029 [-0.618, 0.558], loss: 11.787702, mean_absolute_error: 37.821808, mean_q: 76.332062\n",
      " 23591/50000: episode: 118, duration: 0.471s, episode steps: 200, steps per second: 425, episode reward: 200.000, mean reward: 1.000 [1.000, 1.000], mean action: 0.500 [0.000, 1.000], mean observation: -0.014 [-0.509, 0.513], loss: 12.561560, mean_absolute_error: 38.055836, mean_q: 76.811188\n",
      " 23791/50000: episode: 119, duration: 0.478s, episode steps: 200, steps per second: 419, episode reward: 200.000, mean reward: 1.000 [1.000, 1.000], mean action: 0.485 [0.000, 1.000], mean observation: -0.196 [-1.377, 0.601], loss: 10.998963, mean_absolute_error: 37.974815, mean_q: 76.755440\n",
      " 23991/50000: episode: 120, duration: 0.463s, episode steps: 200, steps per second: 432, episode reward: 200.000, mean reward: 1.000 [1.000, 1.000], mean action: 0.480 [0.000, 1.000], mean observation: -0.286 [-1.984, 0.465], loss: 13.524655, mean_absolute_error: 38.066341, mean_q: 76.704529\n",
      " 24191/50000: episode: 121, duration: 0.474s, episode steps: 200, steps per second: 422, episode reward: 200.000, mean reward: 1.000 [1.000, 1.000], mean action: 0.495 [0.000, 1.000], mean observation: -0.104 [-0.749, 0.533], loss: 11.684309, mean_absolute_error: 38.034279, mean_q: 76.810623\n",
      " 24391/50000: episode: 122, duration: 0.466s, episode steps: 200, steps per second: 429, episode reward: 200.000, mean reward: 1.000 [1.000, 1.000], mean action: 0.475 [0.000, 1.000], mean observation: -0.301 [-2.087, 0.623], loss: 13.482325, mean_absolute_error: 37.969696, mean_q: 76.556572\n",
      " 24591/50000: episode: 123, duration: 0.463s, episode steps: 200, steps per second: 432, episode reward: 200.000, mean reward: 1.000 [1.000, 1.000], mean action: 0.480 [0.000, 1.000], mean observation: -0.240 [-1.595, 0.472], loss: 12.128695, mean_absolute_error: 37.831059, mean_q: 76.371582\n",
      " 24791/50000: episode: 124, duration: 0.465s, episode steps: 200, steps per second: 430, episode reward: 200.000, mean reward: 1.000 [1.000, 1.000], mean action: 0.485 [0.000, 1.000], mean observation: -0.165 [-1.146, 0.578], loss: 10.197086, mean_absolute_error: 37.967964, mean_q: 76.673874\n",
      " 24991/50000: episode: 125, duration: 0.464s, episode steps: 200, steps per second: 431, episode reward: 200.000, mean reward: 1.000 [1.000, 1.000], mean action: 0.490 [0.000, 1.000], mean observation: -0.124 [-0.802, 0.527], loss: 11.439389, mean_absolute_error: 38.096710, mean_q: 76.864929\n",
      " 25191/50000: episode: 126, duration: 0.464s, episode steps: 200, steps per second: 431, episode reward: 200.000, mean reward: 1.000 [1.000, 1.000], mean action: 0.485 [0.000, 1.000], mean observation: -0.202 [-1.384, 0.434], loss: 11.295320, mean_absolute_error: 37.875088, mean_q: 76.384857\n",
      " 25391/50000: episode: 127, duration: 0.480s, episode steps: 200, steps per second: 417, episode reward: 200.000, mean reward: 1.000 [1.000, 1.000], mean action: 0.475 [0.000, 1.000], mean observation: -0.303 [-2.079, 0.414], loss: 9.667378, mean_absolute_error: 37.850376, mean_q: 76.473694\n",
      " 25591/50000: episode: 128, duration: 0.464s, episode steps: 200, steps per second: 431, episode reward: 200.000, mean reward: 1.000 [1.000, 1.000], mean action: 0.490 [0.000, 1.000], mean observation: -0.132 [-0.930, 0.584], loss: 9.062447, mean_absolute_error: 38.075665, mean_q: 76.975189\n",
      " 25791/50000: episode: 129, duration: 0.466s, episode steps: 200, steps per second: 429, episode reward: 200.000, mean reward: 1.000 [1.000, 1.000], mean action: 0.490 [0.000, 1.000], mean observation: -0.123 [-0.835, 0.507], loss: 10.726483, mean_absolute_error: 38.063492, mean_q: 76.783783\n",
      " 25991/50000: episode: 130, duration: 0.466s, episode steps: 200, steps per second: 429, episode reward: 200.000, mean reward: 1.000 [1.000, 1.000], mean action: 0.500 [0.000, 1.000], mean observation: -0.016 [-0.651, 0.489], loss: 12.419109, mean_absolute_error: 38.234055, mean_q: 77.131828\n",
      " 26191/50000: episode: 131, duration: 0.463s, episode steps: 200, steps per second: 432, episode reward: 200.000, mean reward: 1.000 [1.000, 1.000], mean action: 0.495 [0.000, 1.000], mean observation: -0.063 [-0.663, 0.556], loss: 12.501094, mean_absolute_error: 38.322670, mean_q: 77.325127\n",
      " 26391/50000: episode: 132, duration: 0.465s, episode steps: 200, steps per second: 430, episode reward: 200.000, mean reward: 1.000 [1.000, 1.000], mean action: 0.495 [0.000, 1.000], mean observation: -0.040 [-0.654, 0.697], loss: 10.999454, mean_absolute_error: 37.988209, mean_q: 76.737465\n",
      " 26591/50000: episode: 133, duration: 0.465s, episode steps: 200, steps per second: 430, episode reward: 200.000, mean reward: 1.000 [1.000, 1.000], mean action: 0.480 [0.000, 1.000], mean observation: -0.265 [-1.797, 0.559], loss: 8.148337, mean_absolute_error: 38.387554, mean_q: 77.532410\n",
      " 26791/50000: episode: 134, duration: 0.466s, episode steps: 200, steps per second: 429, episode reward: 200.000, mean reward: 1.000 [1.000, 1.000], mean action: 0.480 [0.000, 1.000], mean observation: -0.252 [-1.718, 0.505], loss: 12.658630, mean_absolute_error: 38.477829, mean_q: 77.622597\n",
      " 26991/50000: episode: 135, duration: 0.469s, episode steps: 200, steps per second: 426, episode reward: 200.000, mean reward: 1.000 [1.000, 1.000], mean action: 0.495 [0.000, 1.000], mean observation: -0.039 [-1.000, 1.071], loss: 11.341186, mean_absolute_error: 38.463314, mean_q: 77.658783\n",
      " 27191/50000: episode: 136, duration: 0.488s, episode steps: 200, steps per second: 410, episode reward: 200.000, mean reward: 1.000 [1.000, 1.000], mean action: 0.500 [0.000, 1.000], mean observation: -0.027 [-0.608, 0.553], loss: 11.918657, mean_absolute_error: 38.387905, mean_q: 77.508171\n",
      " 27391/50000: episode: 137, duration: 0.500s, episode steps: 200, steps per second: 400, episode reward: 200.000, mean reward: 1.000 [1.000, 1.000], mean action: 0.500 [0.000, 1.000], mean observation: -0.003 [-0.594, 0.559], loss: 12.303852, mean_absolute_error: 38.463314, mean_q: 77.533386\n",
      " 27591/50000: episode: 138, duration: 0.483s, episode steps: 200, steps per second: 414, episode reward: 200.000, mean reward: 1.000 [1.000, 1.000], mean action: 0.500 [0.000, 1.000], mean observation: 0.029 [-0.610, 0.563], loss: 9.955857, mean_absolute_error: 38.582138, mean_q: 77.979149\n",
      " 27791/50000: episode: 139, duration: 0.477s, episode steps: 200, steps per second: 419, episode reward: 200.000, mean reward: 1.000 [1.000, 1.000], mean action: 0.500 [0.000, 1.000], mean observation: 0.002 [-0.604, 0.555], loss: 8.084236, mean_absolute_error: 38.674393, mean_q: 78.156593\n",
      " 27991/50000: episode: 140, duration: 0.474s, episode steps: 200, steps per second: 422, episode reward: 200.000, mean reward: 1.000 [1.000, 1.000], mean action: 0.480 [0.000, 1.000], mean observation: -0.241 [-1.702, 0.733], loss: 12.345266, mean_absolute_error: 38.741920, mean_q: 78.224579\n",
      " 28191/50000: episode: 141, duration: 0.465s, episode steps: 200, steps per second: 430, episode reward: 200.000, mean reward: 1.000 [1.000, 1.000], mean action: 0.495 [0.000, 1.000], mean observation: -0.087 [-0.865, 0.608], loss: 14.485451, mean_absolute_error: 38.900494, mean_q: 78.497307\n",
      " 28391/50000: episode: 142, duration: 0.481s, episode steps: 200, steps per second: 416, episode reward: 200.000, mean reward: 1.000 [1.000, 1.000], mean action: 0.485 [0.000, 1.000], mean observation: -0.165 [-1.121, 0.609], loss: 10.363747, mean_absolute_error: 38.735073, mean_q: 78.259056\n",
      " 28591/50000: episode: 143, duration: 0.466s, episode steps: 200, steps per second: 429, episode reward: 200.000, mean reward: 1.000 [1.000, 1.000], mean action: 0.500 [0.000, 1.000], mean observation: 0.027 [-0.555, 0.630], loss: 11.071164, mean_absolute_error: 38.876431, mean_q: 78.527649\n",
      " 28791/50000: episode: 144, duration: 0.465s, episode steps: 200, steps per second: 430, episode reward: 200.000, mean reward: 1.000 [1.000, 1.000], mean action: 0.490 [0.000, 1.000], mean observation: -0.128 [-0.877, 0.587], loss: 9.223049, mean_absolute_error: 39.103416, mean_q: 79.089874\n"
     ]
    },
    {
     "name": "stdout",
     "output_type": "stream",
     "text": [
      " 28991/50000: episode: 145, duration: 0.481s, episode steps: 200, steps per second: 416, episode reward: 200.000, mean reward: 1.000 [1.000, 1.000], mean action: 0.485 [0.000, 1.000], mean observation: -0.116 [-1.066, 0.708], loss: 13.332803, mean_absolute_error: 38.931355, mean_q: 78.556396\n",
      " 29191/50000: episode: 146, duration: 0.485s, episode steps: 200, steps per second: 413, episode reward: 200.000, mean reward: 1.000 [1.000, 1.000], mean action: 0.480 [0.000, 1.000], mean observation: -0.225 [-1.645, 0.532], loss: 12.385360, mean_absolute_error: 38.817436, mean_q: 78.316292\n",
      " 29391/50000: episode: 147, duration: 0.467s, episode steps: 200, steps per second: 428, episode reward: 200.000, mean reward: 1.000 [1.000, 1.000], mean action: 0.495 [0.000, 1.000], mean observation: -0.094 [-0.674, 0.548], loss: 13.429565, mean_absolute_error: 38.981640, mean_q: 78.683929\n",
      " 29591/50000: episode: 148, duration: 0.473s, episode steps: 200, steps per second: 422, episode reward: 200.000, mean reward: 1.000 [1.000, 1.000], mean action: 0.500 [0.000, 1.000], mean observation: -0.002 [-0.867, 0.595], loss: 11.271065, mean_absolute_error: 39.041882, mean_q: 78.840668\n",
      " 29791/50000: episode: 149, duration: 0.464s, episode steps: 200, steps per second: 431, episode reward: 200.000, mean reward: 1.000 [1.000, 1.000], mean action: 0.480 [0.000, 1.000], mean observation: -0.283 [-1.940, 0.432], loss: 11.998935, mean_absolute_error: 38.955772, mean_q: 78.633636\n",
      " 29991/50000: episode: 150, duration: 0.463s, episode steps: 200, steps per second: 432, episode reward: 200.000, mean reward: 1.000 [1.000, 1.000], mean action: 0.500 [0.000, 1.000], mean observation: 0.012 [-0.599, 0.594], loss: 7.248392, mean_absolute_error: 38.986866, mean_q: 78.782234\n",
      " 30191/50000: episode: 151, duration: 0.466s, episode steps: 200, steps per second: 429, episode reward: 200.000, mean reward: 1.000 [1.000, 1.000], mean action: 0.500 [0.000, 1.000], mean observation: 0.024 [-0.613, 0.553], loss: 13.167068, mean_absolute_error: 38.978794, mean_q: 78.606590\n",
      " 30391/50000: episode: 152, duration: 0.465s, episode steps: 200, steps per second: 430, episode reward: 200.000, mean reward: 1.000 [1.000, 1.000], mean action: 0.495 [0.000, 1.000], mean observation: -0.053 [-0.896, 0.651], loss: 10.580952, mean_absolute_error: 39.048904, mean_q: 78.852165\n",
      " 30591/50000: episode: 153, duration: 0.468s, episode steps: 200, steps per second: 427, episode reward: 200.000, mean reward: 1.000 [1.000, 1.000], mean action: 0.485 [0.000, 1.000], mean observation: -0.183 [-1.235, 0.603], loss: 12.703663, mean_absolute_error: 39.187191, mean_q: 79.062508\n",
      " 30791/50000: episode: 154, duration: 0.465s, episode steps: 200, steps per second: 431, episode reward: 200.000, mean reward: 1.000 [1.000, 1.000], mean action: 0.500 [0.000, 1.000], mean observation: 0.045 [-0.673, 0.588], loss: 14.665405, mean_absolute_error: 39.221107, mean_q: 79.108192\n",
      " 30991/50000: episode: 155, duration: 0.469s, episode steps: 200, steps per second: 427, episode reward: 200.000, mean reward: 1.000 [1.000, 1.000], mean action: 0.490 [0.000, 1.000], mean observation: -0.154 [-1.032, 0.646], loss: 11.927801, mean_absolute_error: 39.114594, mean_q: 78.959137\n",
      " 31191/50000: episode: 156, duration: 0.503s, episode steps: 200, steps per second: 398, episode reward: 200.000, mean reward: 1.000 [1.000, 1.000], mean action: 0.490 [0.000, 1.000], mean observation: -0.139 [-0.958, 0.640], loss: 14.896738, mean_absolute_error: 39.169727, mean_q: 78.984177\n",
      " 31391/50000: episode: 157, duration: 0.489s, episode steps: 200, steps per second: 409, episode reward: 200.000, mean reward: 1.000 [1.000, 1.000], mean action: 0.500 [0.000, 1.000], mean observation: -0.015 [-0.592, 0.617], loss: 15.411297, mean_absolute_error: 39.276260, mean_q: 79.109070\n",
      " 31591/50000: episode: 158, duration: 0.492s, episode steps: 200, steps per second: 407, episode reward: 200.000, mean reward: 1.000 [1.000, 1.000], mean action: 0.500 [0.000, 1.000], mean observation: 0.045 [-0.535, 0.408], loss: 9.714979, mean_absolute_error: 39.083664, mean_q: 78.952065\n",
      " 31791/50000: episode: 159, duration: 0.497s, episode steps: 200, steps per second: 402, episode reward: 200.000, mean reward: 1.000 [1.000, 1.000], mean action: 0.500 [0.000, 1.000], mean observation: 0.014 [-0.349, 0.554], loss: 7.849282, mean_absolute_error: 39.170776, mean_q: 79.190186\n",
      " 31991/50000: episode: 160, duration: 0.476s, episode steps: 200, steps per second: 421, episode reward: 200.000, mean reward: 1.000 [1.000, 1.000], mean action: 0.500 [0.000, 1.000], mean observation: -0.028 [-0.655, 0.753], loss: 13.621167, mean_absolute_error: 39.349369, mean_q: 79.408859\n",
      " 32191/50000: episode: 161, duration: 0.492s, episode steps: 200, steps per second: 406, episode reward: 200.000, mean reward: 1.000 [1.000, 1.000], mean action: 0.500 [0.000, 1.000], mean observation: 0.023 [-0.727, 0.866], loss: 9.507432, mean_absolute_error: 39.264137, mean_q: 79.264412\n",
      " 32391/50000: episode: 162, duration: 0.499s, episode steps: 200, steps per second: 401, episode reward: 200.000, mean reward: 1.000 [1.000, 1.000], mean action: 0.495 [0.000, 1.000], mean observation: -0.021 [-0.629, 0.804], loss: 13.222296, mean_absolute_error: 39.460194, mean_q: 79.453568\n",
      " 32591/50000: episode: 163, duration: 0.466s, episode steps: 200, steps per second: 429, episode reward: 200.000, mean reward: 1.000 [1.000, 1.000], mean action: 0.480 [0.000, 1.000], mean observation: -0.235 [-1.621, 0.381], loss: 11.169742, mean_absolute_error: 39.340302, mean_q: 79.352295\n",
      " 32791/50000: episode: 164, duration: 0.488s, episode steps: 200, steps per second: 410, episode reward: 200.000, mean reward: 1.000 [1.000, 1.000], mean action: 0.500 [0.000, 1.000], mean observation: -0.026 [-0.492, 0.544], loss: 12.097172, mean_absolute_error: 39.301136, mean_q: 79.187195\n",
      " 32991/50000: episode: 165, duration: 0.466s, episode steps: 200, steps per second: 429, episode reward: 200.000, mean reward: 1.000 [1.000, 1.000], mean action: 0.500 [0.000, 1.000], mean observation: 0.020 [-0.349, 0.538], loss: 6.926028, mean_absolute_error: 39.561520, mean_q: 79.963303\n",
      " 33191/50000: episode: 166, duration: 0.504s, episode steps: 200, steps per second: 397, episode reward: 200.000, mean reward: 1.000 [1.000, 1.000], mean action: 0.490 [0.000, 1.000], mean observation: -0.125 [-0.900, 0.802], loss: 13.036230, mean_absolute_error: 39.477592, mean_q: 79.603043\n",
      " 33391/50000: episode: 167, duration: 0.572s, episode steps: 200, steps per second: 350, episode reward: 200.000, mean reward: 1.000 [1.000, 1.000], mean action: 0.500 [0.000, 1.000], mean observation: 0.009 [-0.624, 0.499], loss: 12.787409, mean_absolute_error: 39.473061, mean_q: 79.481209\n",
      " 33591/50000: episode: 168, duration: 0.543s, episode steps: 200, steps per second: 368, episode reward: 200.000, mean reward: 1.000 [1.000, 1.000], mean action: 0.475 [0.000, 1.000], mean observation: -0.328 [-2.237, 0.579], loss: 12.830642, mean_absolute_error: 39.610401, mean_q: 79.851952\n",
      " 33791/50000: episode: 169, duration: 0.522s, episode steps: 200, steps per second: 383, episode reward: 200.000, mean reward: 1.000 [1.000, 1.000], mean action: 0.490 [0.000, 1.000], mean observation: -0.112 [-0.854, 0.761], loss: 10.462719, mean_absolute_error: 39.506477, mean_q: 79.636215\n",
      " 33991/50000: episode: 170, duration: 1.226s, episode steps: 200, steps per second: 163, episode reward: 200.000, mean reward: 1.000 [1.000, 1.000], mean action: 0.485 [0.000, 1.000], mean observation: -0.186 [-1.287, 0.884], loss: 11.694393, mean_absolute_error: 39.635975, mean_q: 79.883789\n",
      " 34191/50000: episode: 171, duration: 0.488s, episode steps: 200, steps per second: 409, episode reward: 200.000, mean reward: 1.000 [1.000, 1.000], mean action: 0.495 [0.000, 1.000], mean observation: -0.066 [-0.635, 0.616], loss: 11.835808, mean_absolute_error: 39.496307, mean_q: 79.559052\n",
      " 34391/50000: episode: 172, duration: 0.492s, episode steps: 200, steps per second: 407, episode reward: 200.000, mean reward: 1.000 [1.000, 1.000], mean action: 0.490 [0.000, 1.000], mean observation: -0.145 [-1.100, 0.455], loss: 11.874328, mean_absolute_error: 39.519833, mean_q: 79.641800\n",
      " 34591/50000: episode: 173, duration: 0.486s, episode steps: 200, steps per second: 411, episode reward: 200.000, mean reward: 1.000 [1.000, 1.000], mean action: 0.500 [0.000, 1.000], mean observation: 0.031 [-0.445, 0.606], loss: 11.783601, mean_absolute_error: 39.561539, mean_q: 79.808250\n"
     ]
    },
    {
     "name": "stdout",
     "output_type": "stream",
     "text": [
      " 34791/50000: episode: 174, duration: 0.502s, episode steps: 200, steps per second: 398, episode reward: 200.000, mean reward: 1.000 [1.000, 1.000], mean action: 0.475 [0.000, 1.000], mean observation: -0.308 [-2.083, 0.494], loss: 16.683767, mean_absolute_error: 39.497501, mean_q: 79.389793\n",
      " 34991/50000: episode: 175, duration: 0.503s, episode steps: 200, steps per second: 398, episode reward: 200.000, mean reward: 1.000 [1.000, 1.000], mean action: 0.500 [0.000, 1.000], mean observation: 0.027 [-0.598, 0.568], loss: 12.176950, mean_absolute_error: 39.352669, mean_q: 79.182396\n",
      " 35191/50000: episode: 176, duration: 0.491s, episode steps: 200, steps per second: 407, episode reward: 200.000, mean reward: 1.000 [1.000, 1.000], mean action: 0.500 [0.000, 1.000], mean observation: -0.000 [-0.388, 0.537], loss: 12.397534, mean_absolute_error: 39.280987, mean_q: 79.129463\n",
      " 35391/50000: episode: 177, duration: 0.481s, episode steps: 200, steps per second: 416, episode reward: 200.000, mean reward: 1.000 [1.000, 1.000], mean action: 0.490 [0.000, 1.000], mean observation: -0.091 [-0.711, 0.559], loss: 11.032702, mean_absolute_error: 39.507492, mean_q: 79.522675\n",
      " 35591/50000: episode: 178, duration: 0.481s, episode steps: 200, steps per second: 416, episode reward: 200.000, mean reward: 1.000 [1.000, 1.000], mean action: 0.495 [0.000, 1.000], mean observation: -0.083 [-0.787, 0.711], loss: 8.862144, mean_absolute_error: 39.311947, mean_q: 79.183052\n",
      " 35791/50000: episode: 179, duration: 0.500s, episode steps: 200, steps per second: 400, episode reward: 200.000, mean reward: 1.000 [1.000, 1.000], mean action: 0.495 [0.000, 1.000], mean observation: -0.045 [-0.609, 0.645], loss: 11.851063, mean_absolute_error: 39.403564, mean_q: 79.283073\n",
      " 35991/50000: episode: 180, duration: 0.502s, episode steps: 200, steps per second: 398, episode reward: 200.000, mean reward: 1.000 [1.000, 1.000], mean action: 0.505 [0.000, 1.000], mean observation: 0.001 [-0.710, 0.623], loss: 6.949537, mean_absolute_error: 39.587215, mean_q: 79.899704\n",
      " 36191/50000: episode: 181, duration: 0.499s, episode steps: 200, steps per second: 401, episode reward: 200.000, mean reward: 1.000 [1.000, 1.000], mean action: 0.495 [0.000, 1.000], mean observation: -0.062 [-0.977, 0.665], loss: 12.508113, mean_absolute_error: 39.677540, mean_q: 79.846344\n",
      " 36391/50000: episode: 182, duration: 0.502s, episode steps: 200, steps per second: 398, episode reward: 200.000, mean reward: 1.000 [1.000, 1.000], mean action: 0.500 [0.000, 1.000], mean observation: -0.041 [-0.476, 0.338], loss: 10.164138, mean_absolute_error: 39.533749, mean_q: 79.601654\n",
      " 36591/50000: episode: 183, duration: 0.485s, episode steps: 200, steps per second: 412, episode reward: 200.000, mean reward: 1.000 [1.000, 1.000], mean action: 0.485 [0.000, 1.000], mean observation: -0.195 [-1.354, 0.476], loss: 14.512138, mean_absolute_error: 40.122646, mean_q: 80.658195\n",
      " 36791/50000: episode: 184, duration: 0.512s, episode steps: 200, steps per second: 390, episode reward: 200.000, mean reward: 1.000 [1.000, 1.000], mean action: 0.495 [0.000, 1.000], mean observation: -0.041 [-0.677, 0.667], loss: 12.848166, mean_absolute_error: 39.690907, mean_q: 79.903862\n",
      " 36991/50000: episode: 185, duration: 0.500s, episode steps: 200, steps per second: 400, episode reward: 200.000, mean reward: 1.000 [1.000, 1.000], mean action: 0.495 [0.000, 1.000], mean observation: -0.024 [-0.708, 0.641], loss: 13.013446, mean_absolute_error: 39.688541, mean_q: 79.890648\n",
      " 37179/50000: episode: 186, duration: 0.473s, episode steps: 188, steps per second: 398, episode reward: 188.000, mean reward: 1.000 [1.000, 1.000], mean action: 0.468 [0.000, 1.000], mean observation: -0.358 [-2.403, 0.501], loss: 10.052872, mean_absolute_error: 39.527119, mean_q: 79.780861\n",
      " 37379/50000: episode: 187, duration: 0.515s, episode steps: 200, steps per second: 389, episode reward: 200.000, mean reward: 1.000 [1.000, 1.000], mean action: 0.495 [0.000, 1.000], mean observation: -0.027 [-0.535, 0.756], loss: 12.435958, mean_absolute_error: 39.567474, mean_q: 79.623283\n",
      " 37579/50000: episode: 188, duration: 0.472s, episode steps: 200, steps per second: 424, episode reward: 200.000, mean reward: 1.000 [1.000, 1.000], mean action: 0.485 [0.000, 1.000], mean observation: -0.159 [-1.145, 0.424], loss: 7.969151, mean_absolute_error: 39.781509, mean_q: 80.267570\n",
      " 37779/50000: episode: 189, duration: 0.471s, episode steps: 200, steps per second: 424, episode reward: 200.000, mean reward: 1.000 [1.000, 1.000], mean action: 0.500 [0.000, 1.000], mean observation: -0.052 [-0.725, 0.789], loss: 12.774681, mean_absolute_error: 39.768490, mean_q: 79.972694\n",
      " 37979/50000: episode: 190, duration: 0.465s, episode steps: 200, steps per second: 430, episode reward: 200.000, mean reward: 1.000 [1.000, 1.000], mean action: 0.500 [0.000, 1.000], mean observation: -0.023 [-0.598, 0.534], loss: 12.263215, mean_absolute_error: 39.636620, mean_q: 79.709137\n",
      " 38179/50000: episode: 191, duration: 0.465s, episode steps: 200, steps per second: 430, episode reward: 200.000, mean reward: 1.000 [1.000, 1.000], mean action: 0.500 [0.000, 1.000], mean observation: 0.044 [-0.718, 0.669], loss: 11.446096, mean_absolute_error: 39.756073, mean_q: 80.039642\n",
      " 38379/50000: episode: 192, duration: 0.468s, episode steps: 200, steps per second: 428, episode reward: 200.000, mean reward: 1.000 [1.000, 1.000], mean action: 0.490 [0.000, 1.000], mean observation: -0.214 [-1.506, 0.345], loss: 13.462566, mean_absolute_error: 39.524426, mean_q: 79.505501\n",
      " 38579/50000: episode: 193, duration: 0.465s, episode steps: 200, steps per second: 430, episode reward: 200.000, mean reward: 1.000 [1.000, 1.000], mean action: 0.495 [0.000, 1.000], mean observation: -0.065 [-0.558, 0.442], loss: 8.772353, mean_absolute_error: 39.648651, mean_q: 79.978249\n",
      " 38779/50000: episode: 194, duration: 0.464s, episode steps: 200, steps per second: 431, episode reward: 200.000, mean reward: 1.000 [1.000, 1.000], mean action: 0.500 [0.000, 1.000], mean observation: 0.020 [-0.590, 0.570], loss: 6.840487, mean_absolute_error: 39.715473, mean_q: 80.178391\n",
      " 38979/50000: episode: 195, duration: 0.467s, episode steps: 200, steps per second: 428, episode reward: 200.000, mean reward: 1.000 [1.000, 1.000], mean action: 0.495 [0.000, 1.000], mean observation: -0.116 [-0.792, 0.586], loss: 12.839600, mean_absolute_error: 39.793930, mean_q: 80.105057\n",
      " 39179/50000: episode: 196, duration: 0.466s, episode steps: 200, steps per second: 429, episode reward: 200.000, mean reward: 1.000 [1.000, 1.000], mean action: 0.485 [0.000, 1.000], mean observation: -0.159 [-1.261, 0.579], loss: 11.264724, mean_absolute_error: 39.548424, mean_q: 79.664665\n",
      " 39379/50000: episode: 197, duration: 0.468s, episode steps: 200, steps per second: 428, episode reward: 200.000, mean reward: 1.000 [1.000, 1.000], mean action: 0.495 [0.000, 1.000], mean observation: -0.087 [-0.596, 0.548], loss: 8.745461, mean_absolute_error: 39.968174, mean_q: 80.520576\n",
      " 39579/50000: episode: 198, duration: 0.504s, episode steps: 200, steps per second: 397, episode reward: 200.000, mean reward: 1.000 [1.000, 1.000], mean action: 0.480 [0.000, 1.000], mean observation: -0.234 [-1.685, 0.746], loss: 13.826679, mean_absolute_error: 39.948853, mean_q: 80.404755\n",
      " 39779/50000: episode: 199, duration: 0.501s, episode steps: 200, steps per second: 399, episode reward: 200.000, mean reward: 1.000 [1.000, 1.000], mean action: 0.495 [0.000, 1.000], mean observation: -0.044 [-0.440, 0.551], loss: 10.321507, mean_absolute_error: 40.040680, mean_q: 80.621590\n",
      " 39979/50000: episode: 200, duration: 0.483s, episode steps: 200, steps per second: 414, episode reward: 200.000, mean reward: 1.000 [1.000, 1.000], mean action: 0.500 [0.000, 1.000], mean observation: -0.028 [-0.572, 0.585], loss: 16.835762, mean_absolute_error: 39.915680, mean_q: 80.069901\n",
      " 40179/50000: episode: 201, duration: 0.505s, episode steps: 200, steps per second: 396, episode reward: 200.000, mean reward: 1.000 [1.000, 1.000], mean action: 0.500 [0.000, 1.000], mean observation: 0.032 [-0.348, 0.579], loss: 14.090315, mean_absolute_error: 39.976620, mean_q: 80.292793\n"
     ]
    },
    {
     "name": "stdout",
     "output_type": "stream",
     "text": [
      " 40379/50000: episode: 202, duration: 0.507s, episode steps: 200, steps per second: 395, episode reward: 200.000, mean reward: 1.000 [1.000, 1.000], mean action: 0.500 [0.000, 1.000], mean observation: 0.017 [-0.693, 0.534], loss: 6.150489, mean_absolute_error: 39.867970, mean_q: 80.293617\n",
      " 40579/50000: episode: 203, duration: 0.480s, episode steps: 200, steps per second: 416, episode reward: 200.000, mean reward: 1.000 [1.000, 1.000], mean action: 0.480 [0.000, 1.000], mean observation: -0.259 [-1.806, 0.557], loss: 8.563495, mean_absolute_error: 39.919163, mean_q: 80.383781\n",
      " 40779/50000: episode: 204, duration: 0.477s, episode steps: 200, steps per second: 419, episode reward: 200.000, mean reward: 1.000 [1.000, 1.000], mean action: 0.500 [0.000, 1.000], mean observation: -0.036 [-0.616, 0.619], loss: 12.039043, mean_absolute_error: 39.721535, mean_q: 79.746368\n",
      " 40979/50000: episode: 205, duration: 0.472s, episode steps: 200, steps per second: 424, episode reward: 200.000, mean reward: 1.000 [1.000, 1.000], mean action: 0.505 [0.000, 1.000], mean observation: 0.088 [-0.526, 0.641], loss: 9.843218, mean_absolute_error: 39.815395, mean_q: 80.004227\n",
      " 41179/50000: episode: 206, duration: 0.468s, episode steps: 200, steps per second: 427, episode reward: 200.000, mean reward: 1.000 [1.000, 1.000], mean action: 0.500 [0.000, 1.000], mean observation: 0.032 [-0.808, 0.620], loss: 7.362767, mean_absolute_error: 39.795422, mean_q: 80.002396\n",
      " 41379/50000: episode: 207, duration: 1.106s, episode steps: 200, steps per second: 181, episode reward: 200.000, mean reward: 1.000 [1.000, 1.000], mean action: 0.505 [0.000, 1.000], mean observation: 0.056 [-0.580, 0.630], loss: 9.438886, mean_absolute_error: 39.961338, mean_q: 80.373108\n",
      " 41579/50000: episode: 208, duration: 3.332s, episode steps: 200, steps per second: 60, episode reward: 200.000, mean reward: 1.000 [1.000, 1.000], mean action: 0.500 [0.000, 1.000], mean observation: 0.010 [-0.595, 0.557], loss: 12.070840, mean_absolute_error: 39.878174, mean_q: 80.143471\n",
      " 41779/50000: episode: 209, duration: 3.333s, episode steps: 200, steps per second: 60, episode reward: 200.000, mean reward: 1.000 [1.000, 1.000], mean action: 0.500 [0.000, 1.000], mean observation: -0.040 [-0.449, 0.541], loss: 6.623188, mean_absolute_error: 40.252575, mean_q: 81.034676\n",
      " 41979/50000: episode: 210, duration: 3.332s, episode steps: 200, steps per second: 60, episode reward: 200.000, mean reward: 1.000 [1.000, 1.000], mean action: 0.500 [0.000, 1.000], mean observation: -0.015 [-0.586, 0.531], loss: 7.511629, mean_absolute_error: 40.169769, mean_q: 80.842171\n",
      " 42179/50000: episode: 211, duration: 3.332s, episode steps: 200, steps per second: 60, episode reward: 200.000, mean reward: 1.000 [1.000, 1.000], mean action: 0.500 [0.000, 1.000], mean observation: -0.002 [-0.625, 0.768], loss: 10.620874, mean_absolute_error: 40.073456, mean_q: 80.432640\n",
      " 42379/50000: episode: 212, duration: 3.331s, episode steps: 200, steps per second: 60, episode reward: 200.000, mean reward: 1.000 [1.000, 1.000], mean action: 0.485 [0.000, 1.000], mean observation: -0.213 [-1.469, 0.633], loss: 7.937049, mean_absolute_error: 40.208805, mean_q: 80.827225\n",
      " 42579/50000: episode: 213, duration: 3.333s, episode steps: 200, steps per second: 60, episode reward: 200.000, mean reward: 1.000 [1.000, 1.000], mean action: 0.500 [0.000, 1.000], mean observation: 0.036 [-0.589, 0.586], loss: 11.409602, mean_absolute_error: 40.318264, mean_q: 80.882446\n",
      " 42779/50000: episode: 214, duration: 3.333s, episode steps: 200, steps per second: 60, episode reward: 200.000, mean reward: 1.000 [1.000, 1.000], mean action: 0.490 [0.000, 1.000], mean observation: -0.138 [-1.099, 0.655], loss: 11.582989, mean_absolute_error: 40.046516, mean_q: 80.353653\n",
      " 42979/50000: episode: 215, duration: 3.332s, episode steps: 200, steps per second: 60, episode reward: 200.000, mean reward: 1.000 [1.000, 1.000], mean action: 0.500 [0.000, 1.000], mean observation: -0.035 [-0.557, 0.498], loss: 13.621286, mean_absolute_error: 40.036343, mean_q: 80.146706\n",
      " 43179/50000: episode: 216, duration: 3.333s, episode steps: 200, steps per second: 60, episode reward: 200.000, mean reward: 1.000 [1.000, 1.000], mean action: 0.490 [0.000, 1.000], mean observation: -0.124 [-0.894, 0.626], loss: 12.103423, mean_absolute_error: 40.000298, mean_q: 80.247963\n",
      " 43379/50000: episode: 217, duration: 3.332s, episode steps: 200, steps per second: 60, episode reward: 200.000, mean reward: 1.000 [1.000, 1.000], mean action: 0.495 [0.000, 1.000], mean observation: -0.072 [-0.609, 0.838], loss: 12.510942, mean_absolute_error: 39.934986, mean_q: 80.051872\n",
      " 43579/50000: episode: 218, duration: 3.331s, episode steps: 200, steps per second: 60, episode reward: 200.000, mean reward: 1.000 [1.000, 1.000], mean action: 0.500 [0.000, 1.000], mean observation: 0.031 [-0.560, 0.631], loss: 9.528358, mean_absolute_error: 39.899769, mean_q: 79.910179\n",
      " 43779/50000: episode: 219, duration: 3.333s, episode steps: 200, steps per second: 60, episode reward: 200.000, mean reward: 1.000 [1.000, 1.000], mean action: 0.495 [0.000, 1.000], mean observation: -0.076 [-0.584, 0.531], loss: 9.819702, mean_absolute_error: 39.767357, mean_q: 79.765633\n",
      " 43979/50000: episode: 220, duration: 3.332s, episode steps: 200, steps per second: 60, episode reward: 200.000, mean reward: 1.000 [1.000, 1.000], mean action: 0.495 [0.000, 1.000], mean observation: -0.084 [-0.688, 0.552], loss: 9.777072, mean_absolute_error: 39.986591, mean_q: 80.162140\n",
      " 44179/50000: episode: 221, duration: 3.331s, episode steps: 200, steps per second: 60, episode reward: 200.000, mean reward: 1.000 [1.000, 1.000], mean action: 0.490 [0.000, 1.000], mean observation: -0.129 [-0.940, 0.910], loss: 11.409925, mean_absolute_error: 39.616661, mean_q: 79.214821\n",
      " 44379/50000: episode: 222, duration: 3.333s, episode steps: 200, steps per second: 60, episode reward: 200.000, mean reward: 1.000 [1.000, 1.000], mean action: 0.490 [0.000, 1.000], mean observation: -0.076 [-0.709, 0.420], loss: 7.838655, mean_absolute_error: 39.714096, mean_q: 79.623810\n",
      " 44579/50000: episode: 223, duration: 3.333s, episode steps: 200, steps per second: 60, episode reward: 200.000, mean reward: 1.000 [1.000, 1.000], mean action: 0.495 [0.000, 1.000], mean observation: -0.037 [-0.396, 0.414], loss: 11.209020, mean_absolute_error: 39.475567, mean_q: 79.042816\n",
      " 44779/50000: episode: 224, duration: 3.331s, episode steps: 200, steps per second: 60, episode reward: 200.000, mean reward: 1.000 [1.000, 1.000], mean action: 0.485 [0.000, 1.000], mean observation: -0.216 [-1.522, 0.565], loss: 6.888794, mean_absolute_error: 39.532761, mean_q: 79.216370\n",
      " 44979/50000: episode: 225, duration: 3.332s, episode steps: 200, steps per second: 60, episode reward: 200.000, mean reward: 1.000 [1.000, 1.000], mean action: 0.480 [0.000, 1.000], mean observation: -0.207 [-1.659, 0.550], loss: 14.238503, mean_absolute_error: 39.468735, mean_q: 78.831963\n",
      " 45179/50000: episode: 226, duration: 2.387s, episode steps: 200, steps per second: 84, episode reward: 200.000, mean reward: 1.000 [1.000, 1.000], mean action: 0.500 [0.000, 1.000], mean observation: -0.022 [-0.651, 0.750], loss: 8.469303, mean_absolute_error: 39.393154, mean_q: 78.873558\n",
      " 45379/50000: episode: 227, duration: 0.531s, episode steps: 200, steps per second: 377, episode reward: 200.000, mean reward: 1.000 [1.000, 1.000], mean action: 0.495 [0.000, 1.000], mean observation: -0.073 [-0.625, 0.598], loss: 8.728499, mean_absolute_error: 39.476330, mean_q: 79.009178\n",
      " 45579/50000: episode: 228, duration: 0.517s, episode steps: 200, steps per second: 387, episode reward: 200.000, mean reward: 1.000 [1.000, 1.000], mean action: 0.495 [0.000, 1.000], mean observation: -0.051 [-0.598, 0.540], loss: 11.735398, mean_absolute_error: 39.380390, mean_q: 78.652092\n",
      " 45779/50000: episode: 229, duration: 0.508s, episode steps: 200, steps per second: 394, episode reward: 200.000, mean reward: 1.000 [1.000, 1.000], mean action: 0.490 [0.000, 1.000], mean observation: -0.116 [-0.812, 0.543], loss: 11.805467, mean_absolute_error: 39.157120, mean_q: 78.235252\n",
      " 45979/50000: episode: 230, duration: 0.481s, episode steps: 200, steps per second: 416, episode reward: 200.000, mean reward: 1.000 [1.000, 1.000], mean action: 0.500 [0.000, 1.000], mean observation: 0.013 [-0.580, 0.846], loss: 12.312261, mean_absolute_error: 39.011166, mean_q: 77.830345\n"
     ]
    },
    {
     "name": "stdout",
     "output_type": "stream",
     "text": [
      " 46179/50000: episode: 231, duration: 0.477s, episode steps: 200, steps per second: 419, episode reward: 200.000, mean reward: 1.000 [1.000, 1.000], mean action: 0.500 [0.000, 1.000], mean observation: 0.019 [-0.586, 0.823], loss: 9.598829, mean_absolute_error: 38.933224, mean_q: 77.827850\n",
      " 46379/50000: episode: 232, duration: 0.472s, episode steps: 200, steps per second: 424, episode reward: 200.000, mean reward: 1.000 [1.000, 1.000], mean action: 0.490 [0.000, 1.000], mean observation: -0.099 [-0.772, 0.576], loss: 13.475163, mean_absolute_error: 38.981224, mean_q: 77.818367\n",
      " 46579/50000: episode: 233, duration: 0.474s, episode steps: 200, steps per second: 422, episode reward: 200.000, mean reward: 1.000 [1.000, 1.000], mean action: 0.495 [0.000, 1.000], mean observation: -0.061 [-0.724, 0.567], loss: 12.164748, mean_absolute_error: 38.756676, mean_q: 77.265228\n",
      " 46779/50000: episode: 234, duration: 0.500s, episode steps: 200, steps per second: 400, episode reward: 200.000, mean reward: 1.000 [1.000, 1.000], mean action: 0.490 [0.000, 1.000], mean observation: -0.126 [-1.364, 0.996], loss: 10.180084, mean_absolute_error: 38.760788, mean_q: 77.425484\n",
      " 46979/50000: episode: 235, duration: 0.476s, episode steps: 200, steps per second: 420, episode reward: 200.000, mean reward: 1.000 [1.000, 1.000], mean action: 0.500 [0.000, 1.000], mean observation: -0.010 [-0.552, 0.582], loss: 9.834221, mean_absolute_error: 38.720623, mean_q: 77.281624\n",
      " 47179/50000: episode: 236, duration: 0.477s, episode steps: 200, steps per second: 419, episode reward: 200.000, mean reward: 1.000 [1.000, 1.000], mean action: 0.500 [0.000, 1.000], mean observation: 0.016 [-0.738, 0.995], loss: 10.557805, mean_absolute_error: 38.657082, mean_q: 77.095703\n",
      " 47379/50000: episode: 237, duration: 0.603s, episode steps: 200, steps per second: 331, episode reward: 200.000, mean reward: 1.000 [1.000, 1.000], mean action: 0.490 [0.000, 1.000], mean observation: -0.102 [-0.930, 0.556], loss: 6.830632, mean_absolute_error: 38.314194, mean_q: 76.516609\n",
      " 47579/50000: episode: 238, duration: 0.575s, episode steps: 200, steps per second: 348, episode reward: 200.000, mean reward: 1.000 [1.000, 1.000], mean action: 0.495 [0.000, 1.000], mean observation: -0.048 [-0.862, 0.563], loss: 9.342425, mean_absolute_error: 38.576508, mean_q: 77.061417\n",
      " 47772/50000: episode: 239, duration: 0.477s, episode steps: 193, steps per second: 405, episode reward: 193.000, mean reward: 1.000 [1.000, 1.000], mean action: 0.472 [0.000, 1.000], mean observation: -0.356 [-2.402, 0.465], loss: 11.211332, mean_absolute_error: 38.222984, mean_q: 76.120415\n",
      " 47972/50000: episode: 240, duration: 0.483s, episode steps: 200, steps per second: 414, episode reward: 200.000, mean reward: 1.000 [1.000, 1.000], mean action: 0.495 [0.000, 1.000], mean observation: -0.056 [-0.769, 0.881], loss: 7.023960, mean_absolute_error: 38.207012, mean_q: 76.222389\n",
      " 48172/50000: episode: 241, duration: 0.613s, episode steps: 200, steps per second: 326, episode reward: 200.000, mean reward: 1.000 [1.000, 1.000], mean action: 0.500 [0.000, 1.000], mean observation: 0.007 [-0.644, 0.790], loss: 10.718995, mean_absolute_error: 38.116653, mean_q: 75.953796\n",
      " 48372/50000: episode: 242, duration: 0.546s, episode steps: 200, steps per second: 366, episode reward: 200.000, mean reward: 1.000 [1.000, 1.000], mean action: 0.500 [0.000, 1.000], mean observation: -0.003 [-0.542, 0.642], loss: 11.295413, mean_absolute_error: 38.032322, mean_q: 75.668785\n",
      " 48572/50000: episode: 243, duration: 0.574s, episode steps: 200, steps per second: 349, episode reward: 200.000, mean reward: 1.000 [1.000, 1.000], mean action: 0.495 [0.000, 1.000], mean observation: -0.075 [-0.750, 0.418], loss: 6.529407, mean_absolute_error: 37.776665, mean_q: 75.370972\n",
      " 48772/50000: episode: 244, duration: 0.536s, episode steps: 200, steps per second: 373, episode reward: 200.000, mean reward: 1.000 [1.000, 1.000], mean action: 0.495 [0.000, 1.000], mean observation: -0.058 [-0.555, 0.587], loss: 10.975292, mean_absolute_error: 38.128853, mean_q: 75.994308\n",
      " 48972/50000: episode: 245, duration: 0.499s, episode steps: 200, steps per second: 400, episode reward: 200.000, mean reward: 1.000 [1.000, 1.000], mean action: 0.500 [0.000, 1.000], mean observation: 0.012 [-0.623, 0.588], loss: 10.891831, mean_absolute_error: 37.831688, mean_q: 75.325096\n",
      " 49172/50000: episode: 246, duration: 0.511s, episode steps: 200, steps per second: 391, episode reward: 200.000, mean reward: 1.000 [1.000, 1.000], mean action: 0.500 [0.000, 1.000], mean observation: -0.003 [-0.603, 0.530], loss: 10.218474, mean_absolute_error: 37.754425, mean_q: 75.104736\n",
      " 49372/50000: episode: 247, duration: 0.542s, episode steps: 200, steps per second: 369, episode reward: 200.000, mean reward: 1.000 [1.000, 1.000], mean action: 0.500 [0.000, 1.000], mean observation: -0.030 [-0.681, 0.554], loss: 8.428425, mean_absolute_error: 37.877750, mean_q: 75.484154\n",
      " 49572/50000: episode: 248, duration: 0.581s, episode steps: 200, steps per second: 344, episode reward: 200.000, mean reward: 1.000 [1.000, 1.000], mean action: 0.500 [0.000, 1.000], mean observation: 0.017 [-0.809, 0.653], loss: 8.198298, mean_absolute_error: 37.659290, mean_q: 74.973907\n",
      " 49772/50000: episode: 249, duration: 0.628s, episode steps: 200, steps per second: 319, episode reward: 200.000, mean reward: 1.000 [1.000, 1.000], mean action: 0.500 [0.000, 1.000], mean observation: 0.055 [-0.555, 0.419], loss: 7.488584, mean_absolute_error: 37.706432, mean_q: 75.112663\n",
      " 49972/50000: episode: 250, duration: 0.522s, episode steps: 200, steps per second: 383, episode reward: 200.000, mean reward: 1.000 [1.000, 1.000], mean action: 0.495 [0.000, 1.000], mean observation: -0.043 [-0.635, 0.785], loss: 8.600315, mean_absolute_error: 37.705517, mean_q: 75.181465\n",
      "done, took 179.861 seconds\n"
     ]
    },
    {
     "data": {
      "text/plain": [
       "<keras.callbacks.History at 0x14bdee240>"
      ]
     },
     "execution_count": 11,
     "metadata": {},
     "output_type": "execute_result"
    }
   ],
   "source": [
    "dqn.fit(env, nb_steps=50000, visualize=True, verbose=2)"
   ]
  },
  {
   "cell_type": "code",
   "execution_count": 12,
   "metadata": {},
   "outputs": [
    {
     "name": "stdout",
     "output_type": "stream",
     "text": [
      "Testing for 100 episodes ...\n",
      "Episode 1: reward: 200.000, steps: 200\n",
      "Episode 2: reward: 200.000, steps: 200\n",
      "Episode 3: reward: 200.000, steps: 200\n",
      "Episode 4: reward: 200.000, steps: 200\n",
      "Episode 5: reward: 200.000, steps: 200\n",
      "Episode 6: reward: 200.000, steps: 200\n",
      "Episode 7: reward: 200.000, steps: 200\n",
      "Episode 8: reward: 200.000, steps: 200\n",
      "Episode 9: reward: 200.000, steps: 200\n",
      "Episode 10: reward: 200.000, steps: 200\n",
      "Episode 11: reward: 200.000, steps: 200\n",
      "Episode 12: reward: 200.000, steps: 200\n",
      "Episode 13: reward: 200.000, steps: 200\n",
      "Episode 14: reward: 200.000, steps: 200\n",
      "Episode 15: reward: 200.000, steps: 200\n",
      "Episode 16: reward: 200.000, steps: 200\n",
      "Episode 17: reward: 200.000, steps: 200\n",
      "Episode 18: reward: 200.000, steps: 200\n",
      "Episode 19: reward: 200.000, steps: 200\n",
      "Episode 20: reward: 200.000, steps: 200\n",
      "Episode 21: reward: 200.000, steps: 200\n",
      "Episode 22: reward: 200.000, steps: 200\n",
      "Episode 23: reward: 200.000, steps: 200\n",
      "Episode 24: reward: 200.000, steps: 200\n",
      "Episode 25: reward: 200.000, steps: 200\n",
      "Episode 26: reward: 200.000, steps: 200\n",
      "Episode 27: reward: 200.000, steps: 200\n",
      "Episode 28: reward: 200.000, steps: 200\n",
      "Episode 29: reward: 200.000, steps: 200\n",
      "Episode 30: reward: 200.000, steps: 200\n",
      "Episode 31: reward: 200.000, steps: 200\n",
      "Episode 32: reward: 200.000, steps: 200\n",
      "Episode 33: reward: 200.000, steps: 200\n",
      "Episode 34: reward: 200.000, steps: 200\n",
      "Episode 35: reward: 200.000, steps: 200\n",
      "Episode 36: reward: 200.000, steps: 200\n",
      "Episode 37: reward: 200.000, steps: 200\n",
      "Episode 38: reward: 200.000, steps: 200\n",
      "Episode 39: reward: 200.000, steps: 200\n",
      "Episode 40: reward: 200.000, steps: 200\n",
      "Episode 41: reward: 200.000, steps: 200\n",
      "Episode 42: reward: 200.000, steps: 200\n",
      "Episode 43: reward: 200.000, steps: 200\n",
      "Episode 44: reward: 200.000, steps: 200\n",
      "Episode 45: reward: 200.000, steps: 200\n",
      "Episode 46: reward: 200.000, steps: 200\n",
      "Episode 47: reward: 200.000, steps: 200\n",
      "Episode 48: reward: 200.000, steps: 200\n",
      "Episode 49: reward: 200.000, steps: 200\n",
      "Episode 50: reward: 200.000, steps: 200\n",
      "Episode 51: reward: 200.000, steps: 200\n",
      "Episode 52: reward: 200.000, steps: 200\n",
      "Episode 53: reward: 200.000, steps: 200\n",
      "Episode 54: reward: 200.000, steps: 200\n",
      "Episode 55: reward: 200.000, steps: 200\n",
      "Episode 56: reward: 200.000, steps: 200\n",
      "Episode 57: reward: 200.000, steps: 200\n",
      "Episode 58: reward: 200.000, steps: 200\n",
      "Episode 59: reward: 200.000, steps: 200\n",
      "Episode 60: reward: 200.000, steps: 200\n",
      "Episode 61: reward: 200.000, steps: 200\n",
      "Episode 62: reward: 200.000, steps: 200\n",
      "Episode 63: reward: 196.000, steps: 196\n",
      "Episode 64: reward: 200.000, steps: 200\n",
      "Episode 65: reward: 200.000, steps: 200\n",
      "Episode 66: reward: 200.000, steps: 200\n",
      "Episode 67: reward: 200.000, steps: 200\n",
      "Episode 68: reward: 200.000, steps: 200\n",
      "Episode 69: reward: 200.000, steps: 200\n",
      "Episode 70: reward: 200.000, steps: 200\n",
      "Episode 71: reward: 200.000, steps: 200\n",
      "Episode 72: reward: 200.000, steps: 200\n",
      "Episode 73: reward: 200.000, steps: 200\n",
      "Episode 74: reward: 200.000, steps: 200\n",
      "Episode 75: reward: 200.000, steps: 200\n",
      "Episode 76: reward: 200.000, steps: 200\n",
      "Episode 77: reward: 200.000, steps: 200\n",
      "Episode 78: reward: 200.000, steps: 200\n",
      "Episode 79: reward: 200.000, steps: 200\n",
      "Episode 80: reward: 200.000, steps: 200\n",
      "Episode 81: reward: 200.000, steps: 200\n",
      "Episode 82: reward: 200.000, steps: 200\n",
      "Episode 83: reward: 200.000, steps: 200\n",
      "Episode 84: reward: 200.000, steps: 200\n",
      "Episode 85: reward: 200.000, steps: 200\n",
      "Episode 86: reward: 200.000, steps: 200\n",
      "Episode 87: reward: 200.000, steps: 200\n",
      "Episode 88: reward: 200.000, steps: 200\n",
      "Episode 89: reward: 200.000, steps: 200\n",
      "Episode 90: reward: 200.000, steps: 200\n",
      "Episode 91: reward: 200.000, steps: 200\n",
      "Episode 92: reward: 200.000, steps: 200\n",
      "Episode 93: reward: 200.000, steps: 200\n",
      "Episode 94: reward: 200.000, steps: 200\n",
      "Episode 95: reward: 200.000, steps: 200\n",
      "Episode 96: reward: 200.000, steps: 200\n",
      "Episode 97: reward: 200.000, steps: 200\n",
      "Episode 98: reward: 200.000, steps: 200\n",
      "Episode 99: reward: 200.000, steps: 200\n",
      "Episode 100: reward: 200.000, steps: 200\n"
     ]
    },
    {
     "data": {
      "text/plain": [
       "<keras.callbacks.History at 0x14bdee630>"
      ]
     },
     "execution_count": 12,
     "metadata": {},
     "output_type": "execute_result"
    }
   ],
   "source": [
    "dqn.test(env, nb_episodes=100, visualize=True)"
   ]
  },
  {
   "cell_type": "code",
   "execution_count": null,
   "metadata": {},
   "outputs": [],
   "source": []
  }
 ],
 "metadata": {
  "kernelspec": {
   "display_name": "Python 3",
   "language": "python",
   "name": "python3"
  },
  "language_info": {
   "codemirror_mode": {
    "name": "ipython",
    "version": 3
   },
   "file_extension": ".py",
   "mimetype": "text/x-python",
   "name": "python",
   "nbconvert_exporter": "python",
   "pygments_lexer": "ipython3",
   "version": "3.7.5"
  }
 },
 "nbformat": 4,
 "nbformat_minor": 2
}

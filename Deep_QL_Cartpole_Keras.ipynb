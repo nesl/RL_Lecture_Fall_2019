{
 "cells": [
  {
   "cell_type": "markdown",
   "metadata": {},
   "source": [
    "# Deep Q Learning using Keras"
   ]
  },
  {
   "cell_type": "code",
   "execution_count": 6,
   "metadata": {
    "scrolled": true
   },
   "outputs": [],
   "source": [
    "import numpy as np\n",
    "import gym\n",
    "\n",
    "\n",
    "from keras.models import Sequential\n",
    "from keras.layers import Dense, Activation, Flatten\n",
    "from keras.optimizers import Adam\n",
    "\n",
    "from rl.agents.dqn import DQNAgent\n",
    "from rl.policy import EpsGreedyQPolicy, LinearAnnealedPolicy\n",
    "from rl.memory import SequentialMemory"
   ]
  },
  {
   "cell_type": "markdown",
   "metadata": {},
   "source": [
    "# Gym env and actions"
   ]
  },
  {
   "cell_type": "code",
   "execution_count": 7,
   "metadata": {},
   "outputs": [],
   "source": [
    "ENV_NAME = 'CartPole-v0'\n",
    "\n",
    "# Get the environment and extract the number of actions available in the Cartpole problem\n",
    "env = gym.make(ENV_NAME)\n",
    "np.random.seed(1)\n",
    "env.seed(1)\n",
    "nb_actions = env.action_space.n"
   ]
  },
  {
   "cell_type": "code",
   "execution_count": 8,
   "metadata": {},
   "outputs": [
    {
     "name": "stdout",
     "output_type": "stream",
     "text": [
      "(1, 4)\n"
     ]
    }
   ],
   "source": [
    "input_shape=(1,) + env.observation_space.shape\n",
    "print(input_shape)"
   ]
  },
  {
   "cell_type": "markdown",
   "metadata": {},
   "source": [
    "# Simple NN model"
   ]
  },
  {
   "cell_type": "code",
   "execution_count": 9,
   "metadata": {},
   "outputs": [
    {
     "name": "stdout",
     "output_type": "stream",
     "text": [
      "_________________________________________________________________\n",
      "Layer (type)                 Output Shape              Param #   \n",
      "=================================================================\n",
      "flatten_2 (Flatten)          (None, 4)                 0         \n",
      "_________________________________________________________________\n",
      "dense_3 (Dense)              (None, 16)                80        \n",
      "_________________________________________________________________\n",
      "activation_3 (Activation)    (None, 16)                0         \n",
      "_________________________________________________________________\n",
      "dense_4 (Dense)              (None, 2)                 34        \n",
      "_________________________________________________________________\n",
      "activation_4 (Activation)    (None, 2)                 0         \n",
      "=================================================================\n",
      "Total params: 114\n",
      "Trainable params: 114\n",
      "Non-trainable params: 0\n",
      "_________________________________________________________________\n",
      "None\n"
     ]
    }
   ],
   "source": [
    "model = Sequential()\n",
    "model.add(Flatten(input_shape=(1,) + env.observation_space.shape))\n",
    "model.add(Dense(16))\n",
    "model.add(Activation('relu'))\n",
    "model.add(Dense(nb_actions))\n",
    "model.add(Activation('linear'))\n",
    "print(model.summary())"
   ]
  },
  {
   "cell_type": "code",
   "execution_count": 10,
   "metadata": {},
   "outputs": [
    {
     "name": "stderr",
     "output_type": "stream",
     "text": [
      "W1118 20:02:53.499825 4514584000 deprecation_wrapper.py:119] From /Users/sandeep/anaconda3/envs/py36/lib/python3.7/site-packages/keras/backend/tensorflow_backend.py:159: The name tf.get_default_session is deprecated. Please use tf.compat.v1.get_default_session instead.\n",
      "\n",
      "W1118 20:02:53.500586 4514584000 deprecation_wrapper.py:119] From /Users/sandeep/anaconda3/envs/py36/lib/python3.7/site-packages/keras/backend/tensorflow_backend.py:164: The name tf.ConfigProto is deprecated. Please use tf.compat.v1.ConfigProto instead.\n",
      "\n",
      "W1118 20:02:53.598199 4514584000 deprecation_wrapper.py:119] From /Users/sandeep/anaconda3/envs/py36/lib/python3.7/site-packages/keras/optimizers.py:711: The name tf.train.Optimizer is deprecated. Please use tf.compat.v1.train.Optimizer instead.\n",
      "\n",
      "W1118 20:02:53.634010 4514584000 deprecation.py:506] From /Users/sandeep/anaconda3/envs/py36/lib/python3.7/site-packages/keras/backend/tensorflow_backend.py:1247: calling reduce_sum_v1 (from tensorflow.python.ops.math_ops) with keep_dims is deprecated and will be removed in a future version.\n",
      "Instructions for updating:\n",
      "keep_dims is deprecated, use keepdims instead\n",
      "W1118 20:02:53.650027 4514584000 deprecation.py:506] From /Users/sandeep/anaconda3/envs/py36/lib/python3.7/site-packages/keras/backend/tensorflow_backend.py:1213: calling reduce_max_v1 (from tensorflow.python.ops.math_ops) with keep_dims is deprecated and will be removed in a future version.\n",
      "Instructions for updating:\n",
      "keep_dims is deprecated, use keepdims instead\n"
     ]
    }
   ],
   "source": [
    "policy = LinearAnnealedPolicy(EpsGreedyQPolicy(), attr='eps', value_max=1.00,value_min=.05, value_test=.05,\n",
    "nb_steps=10000)\n",
    "\n",
    "memory = SequentialMemory(limit=10000, window_length=1)\n",
    "\n",
    "dqn = DQNAgent(model=model, nb_actions=nb_actions, memory=memory, nb_steps_warmup=10, target_model_update=100, policy=policy)\n",
    "\n",
    "dqn.compile(Adam(lr=0.001), metrics=['mae'])"
   ]
  },
  {
   "cell_type": "code",
   "execution_count": 14,
   "metadata": {},
   "outputs": [],
   "source": [
    "dqn.fit(env, nb_steps=50000, visualize=True, verbose=2)"
   ]
  },
  {
   "cell_type": "code",
   "execution_count": 12,
   "metadata": {},
   "outputs": [
    {
     "name": "stdout",
     "output_type": "stream",
     "text": [
      "Testing for 100 episodes ...\n",
      "Episode 1: reward: 177.000, steps: 177\n",
      "Episode 2: reward: 189.000, steps: 189\n",
      "Episode 3: reward: 172.000, steps: 172\n",
      "Episode 4: reward: 161.000, steps: 161\n",
      "Episode 5: reward: 177.000, steps: 177\n",
      "Episode 6: reward: 157.000, steps: 157\n",
      "Episode 7: reward: 159.000, steps: 159\n",
      "Episode 8: reward: 162.000, steps: 162\n",
      "Episode 9: reward: 171.000, steps: 171\n",
      "Episode 10: reward: 165.000, steps: 165\n",
      "Episode 11: reward: 193.000, steps: 193\n",
      "Episode 12: reward: 179.000, steps: 179\n",
      "Episode 13: reward: 183.000, steps: 183\n",
      "Episode 14: reward: 199.000, steps: 199\n",
      "Episode 15: reward: 183.000, steps: 183\n",
      "Episode 16: reward: 169.000, steps: 169\n",
      "Episode 17: reward: 154.000, steps: 154\n",
      "Episode 18: reward: 166.000, steps: 166\n",
      "Episode 19: reward: 181.000, steps: 181\n",
      "Episode 20: reward: 192.000, steps: 192\n",
      "Episode 21: reward: 161.000, steps: 161\n",
      "Episode 22: reward: 170.000, steps: 170\n",
      "Episode 23: reward: 172.000, steps: 172\n",
      "Episode 24: reward: 200.000, steps: 200\n",
      "Episode 25: reward: 187.000, steps: 187\n",
      "Episode 26: reward: 171.000, steps: 171\n",
      "Episode 27: reward: 168.000, steps: 168\n",
      "Episode 28: reward: 163.000, steps: 163\n",
      "Episode 29: reward: 190.000, steps: 190\n",
      "Episode 30: reward: 174.000, steps: 174\n",
      "Episode 31: reward: 163.000, steps: 163\n",
      "Episode 32: reward: 188.000, steps: 188\n",
      "Episode 33: reward: 168.000, steps: 168\n",
      "Episode 34: reward: 189.000, steps: 189\n",
      "Episode 35: reward: 179.000, steps: 179\n",
      "Episode 36: reward: 166.000, steps: 166\n",
      "Episode 37: reward: 197.000, steps: 197\n",
      "Episode 38: reward: 171.000, steps: 171\n",
      "Episode 39: reward: 155.000, steps: 155\n",
      "Episode 40: reward: 163.000, steps: 163\n",
      "Episode 41: reward: 170.000, steps: 170\n",
      "Episode 42: reward: 173.000, steps: 173\n",
      "Episode 43: reward: 156.000, steps: 156\n",
      "Episode 44: reward: 183.000, steps: 183\n",
      "Episode 45: reward: 178.000, steps: 178\n",
      "Episode 46: reward: 194.000, steps: 194\n",
      "Episode 47: reward: 175.000, steps: 175\n",
      "Episode 48: reward: 177.000, steps: 177\n",
      "Episode 49: reward: 168.000, steps: 168\n",
      "Episode 50: reward: 184.000, steps: 184\n",
      "Episode 51: reward: 165.000, steps: 165\n",
      "Episode 52: reward: 173.000, steps: 173\n",
      "Episode 53: reward: 188.000, steps: 188\n",
      "Episode 54: reward: 180.000, steps: 180\n",
      "Episode 55: reward: 173.000, steps: 173\n",
      "Episode 56: reward: 173.000, steps: 173\n",
      "Episode 57: reward: 165.000, steps: 165\n",
      "Episode 58: reward: 150.000, steps: 150\n",
      "Episode 59: reward: 157.000, steps: 157\n",
      "Episode 60: reward: 171.000, steps: 171\n",
      "Episode 61: reward: 164.000, steps: 164\n",
      "Episode 62: reward: 173.000, steps: 173\n",
      "Episode 63: reward: 159.000, steps: 159\n",
      "Episode 64: reward: 180.000, steps: 180\n",
      "Episode 65: reward: 155.000, steps: 155\n",
      "Episode 66: reward: 184.000, steps: 184\n",
      "Episode 67: reward: 178.000, steps: 178\n",
      "Episode 68: reward: 161.000, steps: 161\n",
      "Episode 69: reward: 191.000, steps: 191\n",
      "Episode 70: reward: 177.000, steps: 177\n",
      "Episode 71: reward: 169.000, steps: 169\n",
      "Episode 72: reward: 170.000, steps: 170\n",
      "Episode 73: reward: 185.000, steps: 185\n",
      "Episode 74: reward: 178.000, steps: 178\n",
      "Episode 75: reward: 191.000, steps: 191\n",
      "Episode 76: reward: 175.000, steps: 175\n",
      "Episode 77: reward: 176.000, steps: 176\n",
      "Episode 78: reward: 167.000, steps: 167\n",
      "Episode 79: reward: 161.000, steps: 161\n",
      "Episode 80: reward: 156.000, steps: 156\n",
      "Episode 81: reward: 162.000, steps: 162\n",
      "Episode 82: reward: 157.000, steps: 157\n",
      "Episode 83: reward: 186.000, steps: 186\n",
      "Episode 84: reward: 160.000, steps: 160\n",
      "Episode 85: reward: 160.000, steps: 160\n",
      "Episode 86: reward: 157.000, steps: 157\n",
      "Episode 87: reward: 198.000, steps: 198\n",
      "Episode 88: reward: 156.000, steps: 156\n",
      "Episode 89: reward: 176.000, steps: 176\n",
      "Episode 90: reward: 173.000, steps: 173\n",
      "Episode 91: reward: 191.000, steps: 191\n",
      "Episode 92: reward: 178.000, steps: 178\n",
      "Episode 93: reward: 161.000, steps: 161\n",
      "Episode 94: reward: 167.000, steps: 167\n",
      "Episode 95: reward: 175.000, steps: 175\n",
      "Episode 96: reward: 166.000, steps: 166\n",
      "Episode 97: reward: 162.000, steps: 162\n",
      "Episode 98: reward: 174.000, steps: 174\n",
      "Episode 99: reward: 184.000, steps: 184\n",
      "Episode 100: reward: 165.000, steps: 165\n"
     ]
    },
    {
     "data": {
      "text/plain": [
       "<keras.callbacks.History at 0x14bbb16d8>"
      ]
     },
     "execution_count": 12,
     "metadata": {},
     "output_type": "execute_result"
    }
   ],
   "source": [
    "dqn.test(env, nb_episodes=100, visualize=True)"
   ]
  },
  {
   "cell_type": "code",
   "execution_count": 13,
   "metadata": {},
   "outputs": [],
   "source": [
    "env.close()"
   ]
  },
  {
   "cell_type": "code",
   "execution_count": null,
   "metadata": {},
   "outputs": [],
   "source": []
  }
 ],
 "metadata": {
  "kernelspec": {
   "display_name": "Python 3",
   "language": "python",
   "name": "python3"
  },
  "language_info": {
   "codemirror_mode": {
    "name": "ipython",
    "version": 3
   },
   "file_extension": ".py",
   "mimetype": "text/x-python",
   "name": "python",
   "nbconvert_exporter": "python",
   "pygments_lexer": "ipython3",
   "version": "3.7.3"
  }
 },
 "nbformat": 4,
 "nbformat_minor": 2
}
